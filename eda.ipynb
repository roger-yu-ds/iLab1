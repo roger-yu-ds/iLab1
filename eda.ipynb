{
 "cells": [
  {
   "cell_type": "code",
   "execution_count": null,
   "metadata": {},
   "outputs": [],
   "source": [
    "from UTILS import utils\n",
    "from pathlib import Path\n",
    "import pickle\n",
    "import matplotlib.pyplot as plt\n",
    "import seaborn as sns\n",
    "from scipy.stats import ks_2samp"
   ]
  },
  {
   "cell_type": "markdown",
   "metadata": {},
   "source": [
    "# Housekeeping"
   ]
  },
  {
   "cell_type": "code",
   "execution_count": null,
   "metadata": {},
   "outputs": [],
   "source": [
    "data_dir = Path.cwd().joinpath('OUTPUT')\n",
    "image_dir = Path.cwd().joinpath('OUTPUT').joinpath('IMAGES')\n",
    "config_dir = Path.cwd().joinpath('CONFIG')\n",
    "column_dir = Path.cwd().joinpath('OUTPUT').joinpath('COLUMNS')\n",
    "report_dir = Path.cwd().joinpath('OUTPUT').joinpath('REPORTING')"
   ]
  },
  {
   "cell_type": "markdown",
   "metadata": {},
   "source": [
    "# Load the Data"
   ]
  },
  {
   "cell_type": "markdown",
   "metadata": {},
   "source": [
    "This notebook uses the `df_merged_with_features` dataframe, which was the output of the `preprocessing` notebook."
   ]
  },
  {
   "cell_type": "code",
   "execution_count": null,
   "metadata": {},
   "outputs": [],
   "source": [
    "filename = 'df_features'\n",
    "\n",
    "with open(str(data_dir.joinpath(filename)), 'rb') as infile:\n",
    "    df = pickle.load(infile)\n",
    "\n",
    "# Drop duplicates\n",
    "df = df.loc[~df.index.duplicated(keep='first')]"
   ]
  },
  {
   "cell_type": "code",
   "execution_count": null,
   "metadata": {},
   "outputs": [],
   "source": [
    "# Define the data types of the columns\n",
    "col_dtype_df = pd.read_csv(\n",
    "    config_dir.joinpath('mapping_column_types_extended.csv'),\n",
    "    index_col='columns')\n",
    "df = df.apply(lambda x: utils.set_column_type2(x, col_dtype_df))"
   ]
  },
  {
   "cell_type": "code",
   "execution_count": null,
   "metadata": {},
   "outputs": [],
   "source": [
    "df.dtypes"
   ]
  },
  {
   "cell_type": "markdown",
   "metadata": {},
   "source": [
    "Add a column for a float type of `student_rating`; this is required for aggregation."
   ]
  },
  {
   "cell_type": "markdown",
   "metadata": {},
   "source": [
    "# Ratings vs Blanks"
   ]
  },
  {
   "cell_type": "code",
   "execution_count": null,
   "metadata": {},
   "outputs": [],
   "source": [
    "xlabel = ''\n",
    "ylabel = 'Count'\n",
    "title = 'Rated vs Not Rated'\n",
    "filename = title.replace(' ', '_').lower() + '.png'\n",
    "image_path = image_dir.joinpath(filename)\n",
    "\n",
    "data = pd.DataFrame({'count': [df.student_rating.isnull().sum(), df.student_rating.notnull().sum()],\n",
    "                     'type': ['Not rated', 'Rated'],})\n",
    "\n",
    "ax = sns.barplot(x='type', \n",
    "            y='count', \n",
    "            data=data)\n",
    "\n",
    "ax.set(xlabel=xlabel,\n",
    "       ylabel=ylabel,\n",
    "       title=title\n",
    "      )\n",
    "\n",
    "plt.tight_layout()\n",
    "plt.savefig(image_path)"
   ]
  },
  {
   "cell_type": "markdown",
   "metadata": {},
   "source": [
    "Just less than half of the sessions were rated by the students."
   ]
  },
  {
   "cell_type": "markdown",
   "metadata": {},
   "source": [
    "# Comments vs Blanks"
   ]
  },
  {
   "cell_type": "code",
   "execution_count": null,
   "metadata": {},
   "outputs": [],
   "source": [
    "xlabel = ''\n",
    "ylabel = 'Count'\n",
    "title = 'Comment vs No Comment'\n",
    "filename = title.replace(' ', '_').lower() + '.png'\n",
    "image_path = image_dir.joinpath(filename)\n",
    "\n",
    "data = pd.DataFrame({'count': [df.student_comment_word_length.isnull().sum(), df.student_comment_word_length.notnull().sum()],\n",
    "                     'type': ['No Comment', 'Comment'],})\n",
    "\n",
    "ax = sns.barplot(x='type', \n",
    "            y='count', \n",
    "            data=data)\n",
    "\n",
    "ax.set(xlabel=xlabel,\n",
    "       ylabel=ylabel,\n",
    "       title=title\n",
    "      )\n",
    "\n",
    "plt.tight_layout()\n",
    "plt.savefig(image_path)"
   ]
  },
  {
   "cell_type": "markdown",
   "metadata": {},
   "source": [
    "There are a lot fewer commented sessions than not. This seems to suggest that commenting take a lot more effort."
   ]
  },
  {
   "cell_type": "markdown",
   "metadata": {},
   "source": [
    "# Rating vs Comments"
   ]
  },
  {
   "cell_type": "markdown",
   "metadata": {},
   "source": [
    "## Rating Distributions With Comments"
   ]
  },
  {
   "cell_type": "code",
   "execution_count": null,
   "metadata": {},
   "outputs": [],
   "source": [
    "xlabel = 'Student Ratings'\n",
    "ylabel = 'Count'\n",
    "title = 'Rating Distributions (Commented)'\n",
    "filename = title.replace(' ', '_').lower() + '.png'\n",
    "image_path = image_dir.joinpath(filename)\n",
    "\n",
    "data = df[df.student_comment_word_length > 0]\n",
    "\n",
    "ax = sns.countplot(x='student_rating', \n",
    "            \n",
    "            data=data)\n",
    "\n",
    "ax.set(xlabel=xlabel,\n",
    "       ylabel=ylabel,\n",
    "       title=title\n",
    "      )\n",
    "\n",
    "plt.tight_layout()\n",
    "plt.savefig(image_path)"
   ]
  },
  {
   "cell_type": "code",
   "execution_count": null,
   "metadata": {},
   "outputs": [],
   "source": [
    "xlabel = 'Student Ratings'\n",
    "ylabel = 'Count'\n",
    "title = 'Rating Distributions (Not Commented)'\n",
    "filename = title.replace(' ', '_').lower() + '.png'\n",
    "image_path = image_dir.joinpath(filename)\n",
    "\n",
    "data = df[df.student_comment_word_length.isnull()]\n",
    "\n",
    "ax = sns.countplot(x='student_rating', \n",
    "                   data=data)\n",
    "\n",
    "ax.set(xlabel=xlabel,\n",
    "       ylabel=ylabel,\n",
    "       title=title\n",
    "      )\n",
    "\n",
    "plt.tight_layout()\n",
    "plt.savefig(image_path)"
   ]
  },
  {
   "cell_type": "markdown",
   "metadata": {},
   "source": [
    "## Kolmogorov Smirnov Test"
   ]
  },
  {
   "cell_type": "code",
   "execution_count": null,
   "metadata": {},
   "outputs": [],
   "source": [
    "column = 'student_rating'\n",
    "ratings_w_comments = df[df.student_comment_word_length.notnull()]['student_rating'].dropna()\n",
    "ratings_wo_comments = df[df.student_comment_word_length.notnull()]['student_rating'].dropna()"
   ]
  },
  {
   "cell_type": "code",
   "execution_count": null,
   "metadata": {},
   "outputs": [],
   "source": [
    "ratings_wo_comments.unique()"
   ]
  },
  {
   "cell_type": "code",
   "execution_count": null,
   "metadata": {},
   "outputs": [],
   "source": [
    "ks_2samp(ratings_w_comments, ratings_wo_comments)"
   ]
  },
  {
   "cell_type": "markdown",
   "metadata": {},
   "source": [
    "The high p-value indicates that the two distributions are essentially the same. The conclusion is that whether a student comments or not doesn't affect the rating."
   ]
  },
  {
   "cell_type": "markdown",
   "metadata": {},
   "source": [
    "## Relationship Between Rating and Commenting"
   ]
  },
  {
   "cell_type": "code",
   "execution_count": null,
   "metadata": {},
   "outputs": [],
   "source": [
    "xlabel = ''\n",
    "ylabel = 'Count'\n",
    "title = 'Ratings vs Comments'\n",
    "filename = title.replace(' ', '_').lower() + '.png'\n",
    "image_path = image_dir.joinpath(filename)\n",
    "\n",
    "data = pd.DataFrame({'type': ['Rated, No Comment', \n",
    "                              'Not Rated, Commented',\n",
    "                              'Rated, Commented'],\n",
    "                     'count': [((df.student_rating_numeric > 0) & (df.student_comment == \"\")).sum(),\n",
    "                               ((df.student_rating_numeric.isna()) & (df.student_comment != \"\")).sum(),\n",
    "                               ((df.student_rating_numeric > 0) & (df.student_comment != \"\")).sum(),\n",
    "                              ]})\n",
    "\n",
    "ax = sns.barplot(x='type', \n",
    "            y='count', \n",
    "            data=data)\n",
    "\n",
    "ax.set(xlabel=xlabel,\n",
    "       ylabel=ylabel,\n",
    "       title=title\n",
    "      )\n",
    "\n",
    "plt.tight_layout()\n",
    "plt.savefig(image_path)\n",
    "\n",
    "plt.show()"
   ]
  },
  {
   "cell_type": "markdown",
   "metadata": {},
   "source": [
    "# Ratings vs Service by Sex"
   ]
  },
  {
   "cell_type": "code",
   "execution_count": null,
   "metadata": {},
   "outputs": [],
   "source": [
    "data = (\n",
    "    df[['service', 'sex_guess', 'student_rating_numeric']]\n",
    "    .groupby(['service', 'sex_guess'])\n",
    "    .mean()\n",
    ")\n",
    "\n",
    "data"
   ]
  },
  {
   "cell_type": "code",
   "execution_count": null,
   "metadata": {},
   "outputs": [],
   "source": [
    "xlabel = 'Service'\n",
    "ylabel = 'Average Rating'\n",
    "title = 'Ratings vs Service by Sex'\n",
    "filename = title.replace(' ', '_').lower() + '.png'\n",
    "image_path = image_dir.joinpath(filename)\n",
    "\n",
    "data = (\n",
    "    df[['service', 'sex_guess', 'student_rating_numeric']]\n",
    "    .groupby(['service', 'sex_guess'])\n",
    "    .mean()\n",
    "    .reset_index()\n",
    ")\n",
    "\n",
    "ax = sns.barplot(\n",
    "    x='service', \n",
    "    y='student_rating_numeric', \n",
    "    hue='sex_guess',\n",
    "    data=data,\n",
    "                )\n",
    "\n",
    "ax.set(xlabel=xlabel,\n",
    "       ylabel=ylabel,\n",
    "       title=title\n",
    "      )\n",
    "\n",
    "plt.legend(\n",
    "    bbox_to_anchor=(1.05, 1), \n",
    "    loc=2, \n",
    "    borderaxespad=0.\n",
    ")\n",
    "\n",
    "plt.tight_layout()\n",
    "plt.savefig(image_path)\n",
    "\n",
    "plt.show()"
   ]
  },
  {
   "cell_type": "markdown",
   "metadata": {},
   "source": [
    "# Student Rating Distribution"
   ]
  },
  {
   "cell_type": "code",
   "execution_count": null,
   "metadata": {},
   "outputs": [],
   "source": [
    "df.student_rating.value_counts()"
   ]
  },
  {
   "cell_type": "code",
   "execution_count": null,
   "metadata": {},
   "outputs": [],
   "source": [
    "xlabel = 'Student Rating'\n",
    "ylabel = 'Count'\n",
    "title = 'Distribution of Student Rating'\n",
    "filename = title.replace(' ', '_').lower() + '.png'\n",
    "image_path = image_dir.joinpath(filename)\n",
    "\n",
    "ax = sns.barplot(x=df.student_rating.value_counts().index, \n",
    "                   y=df.student_rating.value_counts())\n",
    "\n",
    "ax.set(xlabel=xlabel,\n",
    "       ylabel=ylabel,\n",
    "       title=title\n",
    "      )\n",
    "\n",
    "plt.tight_layout()\n",
    "plt.savefig(image_path)"
   ]
  },
  {
   "cell_type": "markdown",
   "metadata": {},
   "source": [
    "# By `client_id`"
   ]
  },
  {
   "cell_type": "markdown",
   "metadata": {},
   "source": [
    "See the sensitivity of the `client_id` to the `wait_seconds` for the 5 largest clients by number of sessions."
   ]
  },
  {
   "cell_type": "code",
   "execution_count": null,
   "metadata": {},
   "outputs": [],
   "source": [
    "clients_by_num_sessions = (df\n",
    "                           .groupby(['service', 'client_id'])\n",
    "                           .agg({'session_id': 'count',\n",
    "                                 'student_id': pd.Series.nunique,\n",
    "                                 'student_rating_float': 'mean',\n",
    "                                 'student_comment_char_word': 'mean',\n",
    "                                 'student_sessions_total': 'mean',\n",
    "                                 'sentiment_aggregated': 'mean',\n",
    "                                 'tutor_id': pd.Series.nunique,\n",
    "                                 'tutor_age': 'mean',\n",
    "                                 'tutor_sessions_total': 'mean',\n",
    "                                 'tutor_experience_days': 'mean',\n",
    "                                 \n",
    "                                })\n",
    "                           .sort_values(by='session_id', ascending=False)\n",
    "                           .rename(columns={'session_id':'num_sessions',\n",
    "                                            'student_rating_float': 'average_student_rating',\n",
    "                                            'sentiment_aggregated': 'average_sentiment'})\n",
    "                           .reset_index()\n",
    "                          )"
   ]
  },
  {
   "cell_type": "code",
   "execution_count": null,
   "metadata": {},
   "outputs": [],
   "source": [
    "clients_by_num_sessions.head()"
   ]
  },
  {
   "cell_type": "markdown",
   "metadata": {},
   "source": [
    "Calculate the correlations between the wait time and the client id."
   ]
  },
  {
   "cell_type": "code",
   "execution_count": null,
   "metadata": {},
   "outputs": [],
   "source": [
    "grouping = ['service', 'client_id']\n",
    "cols = ['student_rating_fixed_float', 'wait_seconds']\n",
    "\n",
    "corr_rating_wait = (df\n",
    "                    .groupby(grouping)[cols]\n",
    "                    .corr()\n",
    "                    .reset_index()\n",
    "                    .query('level_2 == \"student_rating_fixed_float\"')\n",
    "                    .drop(labels=['student_rating_fixed_float', 'level_2'], axis='columns')\n",
    "                    .rename({'wait_seconds': 'corr'})\n",
    "                   )\n",
    "\n",
    "corr_rating_wait.head()\n",
    "corr_rating_wait.shape"
   ]
  },
  {
   "cell_type": "markdown",
   "metadata": {},
   "source": [
    "Merge with `clients_by_num_sessions` to get the `num_sessions` column."
   ]
  },
  {
   "cell_type": "code",
   "execution_count": null,
   "metadata": {},
   "outputs": [],
   "source": [
    "corr_rating_wait = (corr_rating_wait\n",
    "                    .merge(clients_by_num_sessions,\n",
    "                           how='left',\n",
    "                           on=['service', 'client_id'])\n",
    "                   )\n",
    "\n",
    "corr_rating_wait.head()\n",
    "corr_rating_wait.shape"
   ]
  },
  {
   "cell_type": "markdown",
   "metadata": {},
   "source": [
    "Merge with `df` to get the `client_type_desc`."
   ]
  },
  {
   "cell_type": "code",
   "execution_count": null,
   "metadata": {},
   "outputs": [],
   "source": [
    "corr_rating_wait = (corr_rating_wait\n",
    "                    .merge(df[['client_id', 'client_type_desc']]\n",
    "                           .drop_duplicates(),\n",
    "                           how='left',\n",
    "                           on='client_id')\n",
    "                   )\n",
    "\n",
    "corr_rating_wait.head()\n",
    "corr_rating_wait.shape"
   ]
  },
  {
   "cell_type": "markdown",
   "metadata": {},
   "source": [
    "## CL"
   ]
  },
  {
   "cell_type": "markdown",
   "metadata": {},
   "source": [
    "Client IDs with the largest number of sessions over the whole period."
   ]
  },
  {
   "cell_type": "code",
   "execution_count": null,
   "metadata": {},
   "outputs": [],
   "source": [
    "corr_rating_wait.query('service == \"cl\"').sort_values(by='num_sessions', ascending=False).head(10)"
   ]
  },
  {
   "cell_type": "markdown",
   "metadata": {},
   "source": [
    "## WF"
   ]
  },
  {
   "cell_type": "code",
   "execution_count": null,
   "metadata": {},
   "outputs": [],
   "source": [
    "corr_rating_wait.query('service == \"wf\"').sort_values(by='num_sessions', ascending=False).head(10)"
   ]
  },
  {
   "cell_type": "code",
   "execution_count": null,
   "metadata": {},
   "outputs": [],
   "source": [
    "service = 'cl'\n",
    "top_client_id = (corr_rating_wait\n",
    "                 .query('service == @service')\n",
    "                 .sort_values(by='num_sessions', ascending=False)\n",
    "                 .client_id\n",
    "                 .head(1)\n",
    "                 .values[0]\n",
    "                )\n",
    "\n",
    "data = (df\n",
    "        .query('service == @service and client_id == @top_client_id')\n",
    "       )\n",
    "\n"
   ]
  },
  {
   "cell_type": "markdown",
   "metadata": {},
   "source": [
    "# By `client_type_desc`"
   ]
  },
  {
   "cell_type": "markdown",
   "metadata": {},
   "source": [
    "## Rating vs Waiting Time by `client_type_desc`"
   ]
  },
  {
   "cell_type": "markdown",
   "metadata": {},
   "source": [
    "Calculate the average `student_rating` and `sentiment_aggregated`."
   ]
  },
  {
   "cell_type": "code",
   "execution_count": null,
   "metadata": {},
   "outputs": [],
   "source": [
    "grouping = ['service', 'client_type_desc']\n",
    "cols = ['student_rating_fixed_float', 'sentiment_aggregated']\n"
   ]
  },
  {
   "cell_type": "code",
   "execution_count": null,
   "metadata": {},
   "outputs": [],
   "source": [
    "df.g"
   ]
  },
  {
   "cell_type": "markdown",
   "metadata": {},
   "source": [
    "### CL"
   ]
  },
  {
   "cell_type": "code",
   "execution_count": null,
   "metadata": {},
   "outputs": [],
   "source": [
    "service = 'cl'\n",
    "df_subset = df.query('service == @service')"
   ]
  },
  {
   "cell_type": "code",
   "execution_count": null,
   "metadata": {},
   "outputs": [],
   "source": [
    "df_subset.client_type_desc.unique()"
   ]
  },
  {
   "cell_type": "code",
   "execution_count": null,
   "metadata": {},
   "outputs": [],
   "source": [
    "grid = sns.FacetGrid(\n",
    "    df_subset,\n",
    "    row='client_type_desc',\n",
    "    aspect=4,\n",
    "    )\n",
    "\n",
    "grid = grid.map(\n",
    "    sns.scatterplot,\n",
    "    'wait_seconds',\n",
    "    'student_rating_fixed_float')"
   ]
  },
  {
   "cell_type": "markdown",
   "metadata": {},
   "source": [
    "# Intents and Topics"
   ]
  },
  {
   "cell_type": "code",
   "execution_count": null,
   "metadata": {},
   "outputs": [],
   "source": [
    "order_intent_full = df.query('intent_luis != \"None\"').intent_luis.value_counts().index"
   ]
  },
  {
   "cell_type": "code",
   "execution_count": null,
   "metadata": {},
   "outputs": [],
   "source": [
    "title = 'Count of Intents (excl NONE)'\n",
    "x_label = 'Count'\n",
    "y_label = 'Intent'\n",
    "\n",
    "plt.figure(figsize=(13,5))\n",
    "\n",
    "ax = sns.countplot(y='intent_luis',\n",
    "                   data = df.query('intent_luis != \"None\"'),\n",
    "                   order = order_intent_full,\n",
    "                  )\n",
    "\n",
    "ax.set(xlabel=x_label\n",
    "       ,ylabel=y_label\n",
    "       ,title=title)\n",
    "\n",
    "# Saving\n",
    "filename = title.replace(' ', '_').replace(':', '').lower() + '.png'\n",
    "image_path = image_dir.joinpath(filename)\n",
    "plt.tight_layout()\n",
    "\n",
    "plt.savefig(image_path)"
   ]
  },
  {
   "cell_type": "code",
   "execution_count": null,
   "metadata": {},
   "outputs": [],
   "source": [
    "second_dimension = 'student_rating'\n",
    "value = 1\n",
    "\n",
    "title = f'Count of Intents (excl NONE): {second_dimension} = {value}'\n",
    "x_label = 'Count'\n",
    "y_label = 'Intent'\n",
    "\n",
    "data = df.query(f'intent_luis != \"None\" and {second_dimension} == @value')['intent_luis']\n",
    "\n",
    "plt.figure(figsize=(13,5))\n",
    "\n",
    "ax = sns.countplot(y=data\n",
    "                   ,order = order_intent_full\n",
    "                  )\n",
    "\n",
    "ax.set(xlabel=x_label\n",
    "       ,ylabel=y_label\n",
    "       ,title=title)\n",
    "\n",
    "# Saving\n",
    "filename = title.replace(' ', '_').replace(':', '').lower() + '.png'\n",
    "image_path = image_dir.joinpath(filename)\n",
    "plt.tight_layout()\n",
    "plt.savefig(image_path)"
   ]
  },
  {
   "cell_type": "code",
   "execution_count": null,
   "metadata": {},
   "outputs": [],
   "source": [
    "second_dimension = 'student_rating'\n",
    "value = 2\n",
    "\n",
    "title = f'Count of Intents (excl NONE): {second_dimension} = {value}'\n",
    "x_label = 'Count'\n",
    "y_label = 'Intent'\n",
    "\n",
    "data = df.query(f'intent_luis != \"None\" and {second_dimension} == @value')['intent_luis']\n",
    "\n",
    "plt.figure(figsize=(13,5))\n",
    "\n",
    "ax = sns.countplot(y=data\n",
    "                   ,order = order_intent_full\n",
    "                  )\n",
    "\n",
    "ax.set(xlabel=x_label\n",
    "       ,ylabel=y_label\n",
    "       ,title=title)\n",
    "\n",
    "# Saving\n",
    "filename = title.replace(' ', '_').replace(':', '').lower() + '.png'\n",
    "image_path = image_dir.joinpath(filename)\n",
    "plt.tight_layout()\n",
    "plt.savefig(image_path)"
   ]
  },
  {
   "cell_type": "code",
   "execution_count": null,
   "metadata": {},
   "outputs": [],
   "source": [
    "second_dimension = 'student_rating'\n",
    "value = 3\n",
    "\n",
    "title = f'Count of Intents (excl NONE): {second_dimension} = {value}'\n",
    "x_label = 'Count'\n",
    "y_label = 'Intent'\n",
    "\n",
    "data = df.query(f'intent_luis != \"None\" and {second_dimension} == @value')['intent_luis']\n",
    "\n",
    "plt.figure(figsize=(13,5))\n",
    "\n",
    "ax = sns.countplot(y=data\n",
    "                   ,order = order_intent_full\n",
    "                  )\n",
    "\n",
    "ax.set(xlabel=x_label\n",
    "       ,ylabel=y_label\n",
    "       ,title=title)\n",
    "\n",
    "# Saving\n",
    "filename = title.replace(' ', '_').replace(':', '').lower() + '.png'\n",
    "image_path = image_dir.joinpath(filename)\n",
    "plt.tight_layout()\n",
    "plt.savefig(image_path)"
   ]
  },
  {
   "cell_type": "code",
   "execution_count": null,
   "metadata": {},
   "outputs": [],
   "source": [
    "second_dimension = 'student_rating'\n",
    "value = 4\n",
    "\n",
    "title = f'Count of Intents (excl NONE): {second_dimension} = {value}'\n",
    "x_label = 'Count'\n",
    "y_label = 'Intent'\n",
    "\n",
    "data = df.query(f'intent_luis != \"None\" and {second_dimension} == @value')['intent_luis']\n",
    "\n",
    "plt.figure(figsize=(13,5))\n",
    "\n",
    "ax = sns.countplot(y=data\n",
    "                   ,order = order_intent_full\n",
    "                  )\n",
    "\n",
    "ax.set(xlabel=x_label\n",
    "       ,ylabel=y_label\n",
    "       ,title=title)\n",
    "\n",
    "# Saving\n",
    "filename = title.replace(' ', '_').replace(':', '').lower() + '.png'\n",
    "image_path = image_dir.joinpath(filename)\n",
    "plt.tight_layout()\n",
    "plt.savefig(image_path)"
   ]
  },
  {
   "cell_type": "code",
   "execution_count": null,
   "metadata": {},
   "outputs": [],
   "source": [
    "second_dimension = 'student_rating'\n",
    "value = 5\n",
    "\n",
    "title = f'Count of Intents (excl NONE): {second_dimension} = {value}'\n",
    "x_label = 'Count'\n",
    "y_label = 'Intent'\n",
    "\n",
    "data = df.query(f'intent_luis != \"None\" and {second_dimension} == @value')['intent_luis']\n",
    "\n",
    "plt.figure(figsize=(13,5))\n",
    "\n",
    "ax = sns.countplot(y=data\n",
    "                   ,order = order_intent_full\n",
    "                  )\n",
    "\n",
    "ax.set(xlabel=x_label\n",
    "       ,ylabel=y_label\n",
    "       ,title=title)\n",
    "\n",
    "# Saving\n",
    "filename = title.replace(' ', '_').replace(':', '').lower() + '.png'\n",
    "image_path = image_dir.joinpath(filename)\n",
    "plt.tight_layout()\n",
    "plt.savefig(image_path)"
   ]
  },
  {
   "cell_type": "markdown",
   "metadata": {
    "toc-hr-collapsed": false
   },
   "source": [
    "## Mapping to the [SERVQUAL](https://en.wikipedia.org/wiki/SERVQUAL) Categories"
   ]
  },
  {
   "cell_type": "code",
   "execution_count": null,
   "metadata": {},
   "outputs": [],
   "source": [
    "intent_mapping = pd.read_csv(config_dir.joinpath('mapping_intents.csv'))"
   ]
  },
  {
   "cell_type": "code",
   "execution_count": null,
   "metadata": {},
   "outputs": [],
   "source": [
    "intent_mapping.head()"
   ]
  },
  {
   "cell_type": "code",
   "execution_count": null,
   "metadata": {},
   "outputs": [],
   "source": [
    "df = utils.add_column(\n",
    "    df,\n",
    "    column_dir,\n",
    "    'intent_luis')"
   ]
  },
  {
   "cell_type": "markdown",
   "metadata": {},
   "source": [
    "Merge the `intent_luis` with the ... topics."
   ]
  },
  {
   "cell_type": "code",
   "execution_count": null,
   "metadata": {},
   "outputs": [],
   "source": [
    "df = df.merge(\n",
    "    intent_mapping, \n",
    "    how='left',\n",
    "    on='intent_luis',\n",
    "    )"
   ]
  },
  {
   "cell_type": "code",
   "execution_count": null,
   "metadata": {},
   "outputs": [],
   "source": [
    "df[['intent_luis', 'intent_servqual']].dropna().head()"
   ]
  },
  {
   "cell_type": "code",
   "execution_count": null,
   "metadata": {},
   "outputs": [],
   "source": [
    "utils.save_object(\n",
    "    df.intent_servqual,\n",
    "    'intent_servqual',\n",
    "    column_dir,\n",
    "    )"
   ]
  },
  {
   "cell_type": "code",
   "execution_count": null,
   "metadata": {},
   "outputs": [],
   "source": [
    "df.loc[174, ['intent_luis', 'intent_servqual', 'student_comment']]"
   ]
  },
  {
   "cell_type": "code",
   "execution_count": null,
   "metadata": {},
   "outputs": [],
   "source": [
    "# Set the order for the overall data set\n",
    "order = data.intent_client.value_counts().index"
   ]
  },
  {
   "cell_type": "code",
   "execution_count": null,
   "metadata": {},
   "outputs": [],
   "source": [
    "xlabel = 'Categories'\n",
    "ylabel = 'Count'\n",
    "title = 'Comment Category Distribution'\n",
    "filename = title.replace(' ', '_').lower() + '.png'\n",
    "image_path = image_dir.joinpath(filename)\n",
    "\n",
    "data = df.query('intent_client != \"none\"')[['intent_client']]\n",
    "\n",
    "ax = sns.countplot(y='intent_client',\n",
    "                   data=data,\n",
    "                   order=order\n",
    "                  )\n",
    "\n",
    "ax.set(xlabel=ylabel,\n",
    "       ylabel=xlabel,\n",
    "       title=title,\n",
    "      )\n",
    "\n",
    "plt.tight_layout()\n",
    "plt.savefig(image_path)"
   ]
  },
  {
   "cell_type": "markdown",
   "metadata": {},
   "source": [
    "### Comment Category Distribution by Service"
   ]
  },
  {
   "cell_type": "code",
   "execution_count": null,
   "metadata": {},
   "outputs": [],
   "source": [
    "service = 'cl'\n",
    "\n",
    "xlabel = 'Categories'\n",
    "ylabel = 'Count'\n",
    "title = f'Comment Category Distribution ({service.upper()})'\n",
    "filename = title.replace(' ', '_').lower() + '.png'\n",
    "image_path = image_dir.joinpath(filename)\n",
    "\n",
    "data = df.query('service == @service and intent_client != \"none\"')[['intent_client']]\n",
    "\n",
    "ax = sns.countplot(y='intent_client',\n",
    "                   data=data,\n",
    "                   order=order)\n",
    "\n",
    "ax.set(xlabel=ylabel,\n",
    "       ylabel=xlabel,\n",
    "       title=title,\n",
    "      )\n",
    "\n",
    "plt.tight_layout()\n",
    "plt.savefig(image_path)"
   ]
  },
  {
   "cell_type": "code",
   "execution_count": null,
   "metadata": {},
   "outputs": [],
   "source": [
    "service = 'wf'\n",
    "\n",
    "xlabel = 'Categories'\n",
    "ylabel = 'Count'\n",
    "title = f'Comment Category Distribution ({service.upper()})'\n",
    "filename = title.replace(' ', '_').lower() + '.png'\n",
    "image_path = image_dir.joinpath(filename)\n",
    "\n",
    "data = df.query('service == @service and intent_client != \"none\"')[['intent_client']]\n",
    "\n",
    "ax = sns.countplot(y='intent_client',\n",
    "                   data=data,\n",
    "                   order=order)\n",
    "\n",
    "ax.set(xlabel=ylabel,\n",
    "       ylabel=xlabel,\n",
    "       title=title,\n",
    "      )\n",
    "\n",
    "plt.tight_layout()\n",
    "plt.savefig(image_path)"
   ]
  },
  {
   "cell_type": "markdown",
   "metadata": {},
   "source": [
    "### Comment Category Distribution by Rating"
   ]
  },
  {
   "cell_type": "code",
   "execution_count": null,
   "metadata": {},
   "outputs": [],
   "source": [
    "filter_var = 'student_rating'\n",
    "filter_val = 1\n",
    "\n",
    "xlabel = 'Categories'\n",
    "ylabel = 'Count'\n",
    "title = f'Comment Category Distribution (Rating: {filter_val})'\n",
    "filename = title.replace(' ', '_').lower() + '.png'\n",
    "image_path = image_dir.joinpath(filename)\n",
    "\n",
    "data = df.query(f'{filter_var} == {filter_val} and intent_client != \"none\"')[['intent_client']]\n",
    "\n",
    "ax = sns.countplot(y='intent_client',\n",
    "                   data=data,\n",
    "                   order=order)\n",
    "\n",
    "ax.set(xlabel=ylabel,\n",
    "       ylabel=xlabel,\n",
    "       title=title,\n",
    "      )\n",
    "\n",
    "plt.tight_layout()\n",
    "plt.savefig(image_path)"
   ]
  },
  {
   "cell_type": "code",
   "execution_count": null,
   "metadata": {},
   "outputs": [],
   "source": [
    "filter_var = 'student_rating'\n",
    "filter_val = 2\n",
    "\n",
    "xlabel = 'Categories'\n",
    "ylabel = 'Count'\n",
    "title = f'Comment Category Distribution (Rating: {filter_val})'\n",
    "filename = title.replace(' ', '_').lower() + '.png'\n",
    "image_path = image_dir.joinpath(filename)\n",
    "\n",
    "data = df.query(f'{filter_var} == {filter_val} and intent_client != \"none\"')[['intent_client']]\n",
    "\n",
    "ax = sns.countplot(y='intent_client',\n",
    "                   data=data,\n",
    "                   order=order)\n",
    "\n",
    "ax.set(xlabel=ylabel,\n",
    "       ylabel=xlabel,\n",
    "       title=title,\n",
    "      )\n",
    "\n",
    "plt.tight_layout()\n",
    "plt.savefig(image_path)"
   ]
  },
  {
   "cell_type": "code",
   "execution_count": null,
   "metadata": {},
   "outputs": [],
   "source": [
    "filter_var = 'student_rating'\n",
    "filter_val = 3\n",
    "\n",
    "xlabel = 'Categories'\n",
    "ylabel = 'Count'\n",
    "title = f'Comment Category Distribution (Rating: {filter_val})'\n",
    "filename = title.replace(' ', '_').lower() + '.png'\n",
    "image_path = image_dir.joinpath(filename)\n",
    "\n",
    "data = df.query(f'{filter_var} == {filter_val} and intent_client != \"none\"')[['intent_client']]\n",
    "\n",
    "ax = sns.countplot(y='intent_client',\n",
    "                   data=data,\n",
    "                   order=order)\n",
    "\n",
    "ax.set(xlabel=ylabel,\n",
    "       ylabel=xlabel,\n",
    "       title=title,\n",
    "      )\n",
    "\n",
    "plt.tight_layout()\n",
    "plt.savefig(image_path)"
   ]
  },
  {
   "cell_type": "code",
   "execution_count": null,
   "metadata": {},
   "outputs": [],
   "source": [
    "filter_var = 'student_rating'\n",
    "filter_val = 4\n",
    "\n",
    "xlabel = 'Categories'\n",
    "ylabel = 'Count'\n",
    "title = f'Comment Category Distribution (Rating: {filter_val})'\n",
    "filename = title.replace(' ', '_').lower() + '.png'\n",
    "image_path = image_dir.joinpath(filename)\n",
    "\n",
    "data = df.query(f'{filter_var} == {filter_val} and intent_client != \"none\"')[['intent_client']]\n",
    "\n",
    "ax = sns.countplot(y='intent_client',\n",
    "                   data=data,\n",
    "                   order=order)\n",
    "\n",
    "ax.set(xlabel=ylabel,\n",
    "       ylabel=xlabel,\n",
    "       title=title,\n",
    "      )\n",
    "\n",
    "plt.tight_layout()\n",
    "plt.savefig(image_path)"
   ]
  },
  {
   "cell_type": "code",
   "execution_count": null,
   "metadata": {},
   "outputs": [],
   "source": [
    "filter_var = 'student_rating'\n",
    "filter_val = 5\n",
    "\n",
    "xlabel = 'Categories'\n",
    "ylabel = 'Count'\n",
    "title = f'Comment Category Distribution (Rating: {filter_val})'\n",
    "filename = title.replace(' ', '_').lower() + '.png'\n",
    "image_path = image_dir.joinpath(filename)\n",
    "\n",
    "data = df.query(f'{filter_var} == {filter_val} and intent_client != \"none\"')[['intent_client']]\n",
    "\n",
    "ax = sns.countplot(y='intent_client',\n",
    "                   data=data,\n",
    "                   order=order)\n",
    "\n",
    "ax.set(xlabel=ylabel,\n",
    "       ylabel=xlabel,\n",
    "       title=title,\n",
    "      )\n",
    "\n",
    "plt.tight_layout()\n",
    "plt.savefig(image_path)"
   ]
  },
  {
   "cell_type": "markdown",
   "metadata": {},
   "source": [
    "### Comment Category Distribution by Service and Rating"
   ]
  },
  {
   "cell_type": "code",
   "execution_count": null,
   "metadata": {},
   "outputs": [],
   "source": [
    "filter_var1 = 'service'\n",
    "filter_val1 = 'cl'\n",
    "filter_var2 = 'student_rating'\n",
    "filter_val2 = 1\n",
    "\n",
    "xlabel = 'Categories'\n",
    "ylabel = 'Count'\n",
    "title = f'Comment Category Distribution ({filter_var1.title()}: {filter_val1.upper()}, Rating: {filter_val2})'\n",
    "filename = title.replace(' ', '_').replace(':', '_').lower() + '.png'\n",
    "image_path = image_dir.joinpath(filename)\n",
    "\n",
    "data = df.query(f'{filter_var1} == \"{filter_val1}\"'\n",
    "                f' and {filter_var2} == {filter_val2} and'\n",
    "                f' intent_client != \"none\"')[['intent_client']]\n",
    "\n",
    "ax = sns.countplot(y='intent_client',\n",
    "                   data=data,\n",
    "                   order=order)\n",
    "\n",
    "ax.set(xlabel=ylabel,\n",
    "       ylabel=xlabel,\n",
    "       title=title,\n",
    "      )\n",
    "\n",
    "plt.tight_layout()\n",
    "plt.savefig(image_path)"
   ]
  },
  {
   "cell_type": "code",
   "execution_count": null,
   "metadata": {},
   "outputs": [],
   "source": [
    "filter_var1 = 'service'\n",
    "filter_val1 = 'cl'\n",
    "filter_var2 = 'student_rating'\n",
    "filter_val2 = 2\n",
    "\n",
    "xlabel = 'Categories'\n",
    "ylabel = 'Count'\n",
    "title = f'Comment Category Distribution ({filter_var1.title()}: {filter_val1.upper()}, Rating: {filter_val2})'\n",
    "filename = title.replace(' ', '_').replace(':', '_').lower() + '.png'\n",
    "image_path = image_dir.joinpath(filename)\n",
    "\n",
    "data = df.query(f'{filter_var1} == \"{filter_val1}\"'\n",
    "                f' and {filter_var2} == {filter_val2} and'\n",
    "                f' intent_client != \"none\"')[['intent_client']]\n",
    "\n",
    "ax = sns.countplot(y='intent_client',\n",
    "                   data=data,\n",
    "                   order=order)\n",
    "\n",
    "ax.set(xlabel=ylabel,\n",
    "       ylabel=xlabel,\n",
    "       title=title,\n",
    "      )\n",
    "\n",
    "plt.tight_layout()\n",
    "plt.savefig(image_path)"
   ]
  },
  {
   "cell_type": "code",
   "execution_count": null,
   "metadata": {},
   "outputs": [],
   "source": [
    "filter_var1 = 'service'\n",
    "filter_val1 = 'cl'\n",
    "filter_var2 = 'student_rating'\n",
    "filter_val2 = 3\n",
    "\n",
    "xlabel = 'Categories'\n",
    "ylabel = 'Count'\n",
    "title = f'Comment Category Distribution ({filter_var1.title()}: {filter_val1.upper()}, Rating: {filter_val2})'\n",
    "filename = title.replace(' ', '_').replace(':', '_').lower() + '.png'\n",
    "image_path = image_dir.joinpath(filename)\n",
    "\n",
    "data = df.query(f'{filter_var1} == \"{filter_val1}\"'\n",
    "                f' and {filter_var2} == {filter_val2} and'\n",
    "                f' intent_client != \"none\"')[['intent_client']]\n",
    "\n",
    "ax = sns.countplot(y='intent_client',\n",
    "                   data=data,\n",
    "                   order=order)\n",
    "\n",
    "ax.set(xlabel=ylabel,\n",
    "       ylabel=xlabel,\n",
    "       title=title,\n",
    "      )\n",
    "\n",
    "plt.tight_layout()\n",
    "plt.savefig(image_path)"
   ]
  },
  {
   "cell_type": "code",
   "execution_count": null,
   "metadata": {},
   "outputs": [],
   "source": [
    "filter_var1 = 'service'\n",
    "filter_val1 = 'cl'\n",
    "filter_var2 = 'student_rating'\n",
    "filter_val2 = 4\n",
    "\n",
    "xlabel = 'Categories'\n",
    "ylabel = 'Count'\n",
    "title = f'Comment Category Distribution ({filter_var1.title()}: {filter_val1.upper()}, Rating: {filter_val2})'\n",
    "filename = title.replace(' ', '_').replace(':', '_').lower() + '.png'\n",
    "image_path = image_dir.joinpath(filename)\n",
    "\n",
    "data = df.query(f'{filter_var1} == \"{filter_val1}\"'\n",
    "                f' and {filter_var2} == {filter_val2} and'\n",
    "                f' intent_client != \"none\"')[['intent_client']]\n",
    "\n",
    "ax = sns.countplot(y='intent_client',\n",
    "                   data=data,\n",
    "                   order=order)\n",
    "\n",
    "ax.set(xlabel=ylabel,\n",
    "       ylabel=xlabel,\n",
    "       title=title,\n",
    "      )\n",
    "\n",
    "plt.tight_layout()\n",
    "plt.savefig(image_path)"
   ]
  },
  {
   "cell_type": "code",
   "execution_count": null,
   "metadata": {},
   "outputs": [],
   "source": [
    "filter_var1 = 'service'\n",
    "filter_val1 = 'cl'\n",
    "filter_var2 = 'student_rating'\n",
    "filter_val2 = 5\n",
    "\n",
    "xlabel = 'Categories'\n",
    "ylabel = 'Count'\n",
    "title = f'Comment Category Distribution ({filter_var1.title()}: {filter_val1.upper()}, Rating: {filter_val2})'\n",
    "filename = title.replace(' ', '_').replace(':', '_').lower() + '.png'\n",
    "image_path = image_dir.joinpath(filename)\n",
    "\n",
    "data = df.query(f'{filter_var1} == \"{filter_val1}\"'\n",
    "                f' and {filter_var2} == {filter_val2} and'\n",
    "                f' intent_client != \"none\"')[['intent_client']]\n",
    "\n",
    "ax = sns.countplot(y='intent_client',\n",
    "                   data=data,\n",
    "                   order=order)\n",
    "\n",
    "ax.set(xlabel=ylabel,\n",
    "       ylabel=xlabel,\n",
    "       title=title,\n",
    "      )\n",
    "\n",
    "plt.tight_layout()\n",
    "plt.savefig(image_path)"
   ]
  },
  {
   "cell_type": "code",
   "execution_count": null,
   "metadata": {},
   "outputs": [],
   "source": [
    "filter_var1 = 'service'\n",
    "filter_val1 = 'wf'\n",
    "filter_var2 = 'student_rating'\n",
    "filter_val2 = 1\n",
    "\n",
    "xlabel = 'Categories'\n",
    "ylabel = 'Count'\n",
    "title = f'Comment Category Distribution ({filter_var1.title()}: {filter_val1.upper()}, Rating: {filter_val2})'\n",
    "filename = title.replace(' ', '_').replace(':', '_').lower() + '.png'\n",
    "image_path = image_dir.joinpath(filename)\n",
    "\n",
    "data = df.query(f'{filter_var1} == \"{filter_val1}\"'\n",
    "                f' and {filter_var2} == {filter_val2} and'\n",
    "                f' intent_client != \"none\"')[['intent_client']]\n",
    "\n",
    "ax = sns.countplot(y='intent_client',\n",
    "                   data=data,\n",
    "                   order=order)\n",
    "\n",
    "ax.set(xlabel=ylabel,\n",
    "       ylabel=xlabel,\n",
    "       title=title,\n",
    "      )\n",
    "\n",
    "plt.tight_layout()\n",
    "plt.savefig(image_path)"
   ]
  },
  {
   "cell_type": "code",
   "execution_count": null,
   "metadata": {},
   "outputs": [],
   "source": [
    "filter_var1 = 'service'\n",
    "filter_val1 = 'wf'\n",
    "filter_var2 = 'student_rating'\n",
    "filter_val2 = 2\n",
    "\n",
    "xlabel = 'Categories'\n",
    "ylabel = 'Count'\n",
    "title = f'Comment Category Distribution ({filter_var1.title()}: {filter_val1.upper()}, Rating: {filter_val2})'\n",
    "filename = title.replace(' ', '_').replace(':', '_').lower() + '.png'\n",
    "image_path = image_dir.joinpath(filename)\n",
    "\n",
    "data = df.query(f'{filter_var1} == \"{filter_val1}\"'\n",
    "                f' and {filter_var2} == {filter_val2} and'\n",
    "                f' intent_client != \"none\"')[['intent_client']]\n",
    "\n",
    "ax = sns.countplot(y='intent_client',\n",
    "                   data=data,\n",
    "                   order=order)\n",
    "\n",
    "ax.set(xlabel=ylabel,\n",
    "       ylabel=xlabel,\n",
    "       title=title,\n",
    "      )\n",
    "\n",
    "plt.tight_layout()\n",
    "plt.savefig(image_path)"
   ]
  },
  {
   "cell_type": "code",
   "execution_count": null,
   "metadata": {},
   "outputs": [],
   "source": [
    "filter_var1 = 'service'\n",
    "filter_val1 = 'wf'\n",
    "filter_var2 = 'student_rating'\n",
    "filter_val2 = 3\n",
    "\n",
    "xlabel = 'Categories'\n",
    "ylabel = 'Count'\n",
    "title = f'Comment Category Distribution ({filter_var1.title()}: {filter_val1.upper()}, Rating: {filter_val2})'\n",
    "filename = title.replace(' ', '_').replace(':', '_').lower() + '.png'\n",
    "image_path = image_dir.joinpath(filename)\n",
    "\n",
    "data = df.query(f'{filter_var1} == \"{filter_val1}\"'\n",
    "                f' and {filter_var2} == {filter_val2} and'\n",
    "                f' intent_client != \"none\"')[['intent_client']]\n",
    "\n",
    "ax = sns.countplot(y='intent_client',\n",
    "                   data=data,\n",
    "                   order=order)\n",
    "\n",
    "ax.set(xlabel=ylabel,\n",
    "       ylabel=xlabel,\n",
    "       title=title,\n",
    "      )\n",
    "\n",
    "plt.tight_layout()\n",
    "plt.savefig(image_path)"
   ]
  },
  {
   "cell_type": "code",
   "execution_count": null,
   "metadata": {},
   "outputs": [],
   "source": [
    "filter_var1 = 'service'\n",
    "filter_val1 = 'wf'\n",
    "filter_var2 = 'student_rating'\n",
    "filter_val2 = 4\n",
    "\n",
    "xlabel = 'Categories'\n",
    "ylabel = 'Count'\n",
    "title = f'Comment Category Distribution ({filter_var1.title()}: {filter_val1.upper()}, Rating: {filter_val2})'\n",
    "filename = title.replace(' ', '_').replace(':', '_').lower() + '.png'\n",
    "image_path = image_dir.joinpath(filename)\n",
    "\n",
    "data = df.query(f'{filter_var1} == \"{filter_val1}\"'\n",
    "                f' and {filter_var2} == {filter_val2} and'\n",
    "                f' intent_client != \"none\"')[['intent_client']]\n",
    "\n",
    "ax = sns.countplot(y='intent_client',\n",
    "                   data=data,\n",
    "                   order=order)\n",
    "\n",
    "ax.set(xlabel=ylabel,\n",
    "       ylabel=xlabel,\n",
    "       title=title,\n",
    "      )\n",
    "\n",
    "plt.tight_layout()\n",
    "plt.savefig(image_path)"
   ]
  },
  {
   "cell_type": "code",
   "execution_count": null,
   "metadata": {},
   "outputs": [],
   "source": [
    "filter_var1 = 'service'\n",
    "filter_val1 = 'wf'\n",
    "filter_var2 = 'student_rating'\n",
    "filter_val2 = 5\n",
    "\n",
    "xlabel = 'Categories'\n",
    "ylabel = 'Count'\n",
    "title = f'Comment Category Distribution ({filter_var1.title()}: {filter_val1.upper()}, Rating: {filter_val2})'\n",
    "filename = title.replace(' ', '_').replace(':', '_').lower() + '.png'\n",
    "image_path = image_dir.joinpath(filename)\n",
    "\n",
    "data = df.query(f'{filter_var1} == \"{filter_val1}\"'\n",
    "                f' and {filter_var2} == {filter_val2} and'\n",
    "                f' intent_client != \"none\"')[['intent_client']]\n",
    "\n",
    "ax = sns.countplot(y='intent_client',\n",
    "                   data=data,\n",
    "                   order=order)\n",
    "\n",
    "ax.set(xlabel=ylabel,\n",
    "       ylabel=xlabel,\n",
    "       title=title,\n",
    "      )\n",
    "\n",
    "plt.tight_layout()\n",
    "plt.savefig(image_path)"
   ]
  },
  {
   "cell_type": "markdown",
   "metadata": {},
   "source": [
    "## Average Sentiment Scores by Categories"
   ]
  },
  {
   "cell_type": "code",
   "execution_count": null,
   "metadata": {},
   "outputs": [],
   "source": [
    "groupby_vars = ['service', 'intent_servqual']\n",
    "\n",
    "filter_var1 = 'service'\n",
    "filter_val1 = 'cl'\n",
    "\n",
    "xlabel = 'SERVQUAL Categories'\n",
    "ylabel = 'Average Sentiment Score'\n",
    "title = f'Average Sentiment ({filter_var1.title()}: {filter_val1.upper()})'\n",
    "filename = title.replace(' ', '_').replace(':', '_').lower() + '.png'\n",
    "image_path = image_dir.joinpath(filename)\n",
    "\n",
    "data = (df\n",
    "        .groupby(groupby_vars)['sentiment_aggregated']\n",
    "        .mean()\n",
    "        .reset_index()\n",
    "        .query(f'{filter_var1} == @filter_val1')\n",
    "       )\n",
    "\n",
    "ax = sns.barplot(y='sentiment_aggregated',\n",
    "                 x='intent_servqual',\n",
    "                 data=data,\n",
    "                 )\n",
    "\n",
    "ax.set(xlabel=xlabel,\n",
    "       ylabel=ylabel,\n",
    "       title=title,\n",
    "      )\n",
    "\n",
    "ax.set_xticklabels(\n",
    "    labels=ax.get_xticklabels(),\n",
    "    rotation=45,\n",
    "    horizontalalignment='right',\n",
    "    )\n",
    "\n",
    "plt.tight_layout()\n",
    "plt.savefig(image_path)"
   ]
  },
  {
   "cell_type": "code",
   "execution_count": null,
   "metadata": {},
   "outputs": [],
   "source": [
    "groupby_vars = ['service', 'intent_servqual']\n",
    "\n",
    "filter_var1 = 'service'\n",
    "filter_val1 = 'wf'\n",
    "\n",
    "xlabel = 'SERVQUAL Categories'\n",
    "ylabel = 'Average Sentiment Score'\n",
    "title = f'Average Sentiment ({filter_var1.title()}: {filter_val1.upper()})'\n",
    "filename = title.replace(' ', '_').replace(':', '_').lower() + '.png'\n",
    "image_path = image_dir.joinpath(filename)\n",
    "\n",
    "data = (df\n",
    "        .groupby(groupby_vars)['sentiment_aggregated']\n",
    "        .mean()\n",
    "        .reset_index()\n",
    "        .query(f'{filter_var1} == @filter_val1')\n",
    "       )\n",
    "\n",
    "ax = sns.barplot(y='sentiment_aggregated',\n",
    "                 x='intent_servqual',\n",
    "                 data=data,\n",
    "                 )\n",
    "\n",
    "ax.set(xlabel=xlabel,\n",
    "       ylabel=ylabel,\n",
    "       title=title,\n",
    "      )\n",
    "\n",
    "ax.set_xticklabels(\n",
    "    labels=ax.get_xticklabels(),\n",
    "    rotation=45,\n",
    "    horizontalalignment='right',\n",
    "    )\n",
    "\n",
    "plt.tight_layout()\n",
    "plt.savefig(image_path)"
   ]
  },
  {
   "cell_type": "markdown",
   "metadata": {},
   "source": [
    "## Average Sentiment Scores by Categories (Service: CL, Rating: 1)"
   ]
  },
  {
   "cell_type": "code",
   "execution_count": null,
   "metadata": {},
   "outputs": [],
   "source": [
    "groupby_vars = ['service', 'intent_servqual', 'student_rating']\n",
    "\n",
    "filter_var1 = 'service'\n",
    "filter_val1 = 'cl'\n",
    "filter_var2 = 'student_rating'\n",
    "filter_val2 = 1\n",
    "\n",
    "xlabel = 'SERVQUAL Categories'\n",
    "ylabel = 'Average Sentiment Score'\n",
    "title = f'Average Sentiment ({filter_var1.title()}: {filter_val1.upper()}, Rating: {filter_val2})'\n",
    "filename = title.replace(' ', '_').replace(':', '_').lower() + '.png'\n",
    "image_path = image_dir.joinpath(filename)\n",
    "\n",
    "data = (df\n",
    "        .groupby(groupby_vars)['sentiment_aggregated']\n",
    "        .mean()\n",
    "        .reset_index()\n",
    "        .query(f'{filter_var1} == @filter_val1 and {filter_var2} == @filter_val2')\n",
    "       )\n",
    "\n",
    "ax = sns.barplot(y='sentiment_aggregated',\n",
    "                 x='intent_servqual',\n",
    "                 data=data,\n",
    "                 )\n",
    "\n",
    "ax.set(xlabel=xlabel,\n",
    "       ylabel=ylabel,\n",
    "       title=title,\n",
    "      )\n",
    "\n",
    "ax.set_xticklabels(\n",
    "    labels=ax.get_xticklabels(),\n",
    "    rotation=45,\n",
    "    horizontalalignment='right',\n",
    "    )\n",
    "\n",
    "plt.tight_layout()\n",
    "plt.savefig(image_path)"
   ]
  },
  {
   "cell_type": "markdown",
   "metadata": {},
   "source": [
    "## Average Sentiment Scores by Categories (Service: CL, Rating: 2)"
   ]
  },
  {
   "cell_type": "code",
   "execution_count": null,
   "metadata": {},
   "outputs": [],
   "source": [
    "groupby_vars = ['service', 'intent_servqual', 'student_rating']\n",
    "\n",
    "filter_var1 = 'service'\n",
    "filter_val1 = 'cl'\n",
    "filter_var2 = 'student_rating'\n",
    "filter_val2 = 2\n",
    "\n",
    "xlabel = 'SERVQUAL Categories'\n",
    "ylabel = 'Average Sentiment Score'\n",
    "title = f'Average Sentiment ({filter_var1.title()}: {filter_val1.upper()}, Rating: {filter_val2})'\n",
    "filename = title.replace(' ', '_').replace(':', '_').lower() + '.png'\n",
    "image_path = image_dir.joinpath(filename)\n",
    "\n",
    "data = (df\n",
    "        .groupby(groupby_vars)['sentiment_aggregated']\n",
    "        .mean()\n",
    "        .reset_index()\n",
    "        .query(f'{filter_var1} == @filter_val1 and {filter_var2} == @filter_val2')\n",
    "       )\n",
    "\n",
    "ax = sns.barplot(y='sentiment_aggregated',\n",
    "                 x='intent_servqual',\n",
    "                 data=data,\n",
    "                 )\n",
    "\n",
    "ax.set(xlabel=xlabel,\n",
    "       ylabel=ylabel,\n",
    "       title=title,\n",
    "      )\n",
    "\n",
    "ax.set_xticklabels(\n",
    "    labels=ax.get_xticklabels(),\n",
    "    rotation=45,\n",
    "    horizontalalignment='right',\n",
    "    )\n",
    "\n",
    "plt.tight_layout()\n",
    "plt.savefig(image_path)"
   ]
  },
  {
   "cell_type": "markdown",
   "metadata": {},
   "source": [
    "## Average Sentiment Scores by Categories (Service: CL, Rating: 3)"
   ]
  },
  {
   "cell_type": "code",
   "execution_count": null,
   "metadata": {},
   "outputs": [],
   "source": [
    "groupby_vars = ['service', 'intent_servqual', 'student_rating']\n",
    "\n",
    "filter_var1 = 'service'\n",
    "filter_val1 = 'cl'\n",
    "filter_var2 = 'student_rating'\n",
    "filter_val2 = 3\n",
    "\n",
    "xlabel = 'SERVQUAL Categories'\n",
    "ylabel = 'Average Sentiment Score'\n",
    "title = f'Average Sentiment ({filter_var1.title()}: {filter_val1.upper()}, Rating: {filter_val2})'\n",
    "filename = title.replace(' ', '_').replace(':', '_').lower() + '.png'\n",
    "image_path = image_dir.joinpath(filename)\n",
    "\n",
    "data = (df\n",
    "        .groupby(groupby_vars)['sentiment_aggregated']\n",
    "        .mean()\n",
    "        .reset_index()\n",
    "        .query(f'{filter_var1} == @filter_val1 and {filter_var2} == @filter_val2')\n",
    "       )\n",
    "\n",
    "ax = sns.barplot(y='sentiment_aggregated',\n",
    "                 x='intent_servqual',\n",
    "                 data=data,\n",
    "                 )\n",
    "\n",
    "ax.set(xlabel=xlabel,\n",
    "       ylabel=ylabel,\n",
    "       title=title,\n",
    "      )\n",
    "\n",
    "ax.set_xticklabels(\n",
    "    labels=ax.get_xticklabels(),\n",
    "    rotation=45,\n",
    "    horizontalalignment='right',\n",
    "    )\n",
    "\n",
    "plt.tight_layout()\n",
    "plt.savefig(image_path)"
   ]
  },
  {
   "cell_type": "markdown",
   "metadata": {},
   "source": [
    "## Average Sentiment Scores by Categories (Service: CL, Rating: 4)"
   ]
  },
  {
   "cell_type": "code",
   "execution_count": null,
   "metadata": {},
   "outputs": [],
   "source": [
    "groupby_vars = ['service', 'intent_servqual', 'student_rating']\n",
    "\n",
    "filter_var1 = 'service'\n",
    "filter_val1 = 'cl'\n",
    "filter_var2 = 'student_rating'\n",
    "filter_val2 = 4\n",
    "\n",
    "xlabel = 'SERVQUAL Categories'\n",
    "ylabel = 'Average Sentiment Score'\n",
    "title = f'Average Sentiment ({filter_var1.title()}: {filter_val1.upper()}, Rating: {filter_val2})'\n",
    "filename = title.replace(' ', '_').replace(':', '_').lower() + '.png'\n",
    "image_path = image_dir.joinpath(filename)\n",
    "\n",
    "data = (df\n",
    "        .groupby(groupby_vars)['sentiment_aggregated']\n",
    "        .mean()\n",
    "        .reset_index()\n",
    "        .query(f'{filter_var1} == @filter_val1 and {filter_var2} == @filter_val2')\n",
    "       )\n",
    "\n",
    "ax = sns.barplot(y='sentiment_aggregated',\n",
    "                 x='intent_servqual',\n",
    "                 data=data,\n",
    "                 )\n",
    "\n",
    "ax.set(xlabel=xlabel,\n",
    "       ylabel=ylabel,\n",
    "       title=title,\n",
    "      )\n",
    "\n",
    "ax.set_xticklabels(\n",
    "    labels=ax.get_xticklabels(),\n",
    "    rotation=45,\n",
    "    horizontalalignment='right',\n",
    "    )\n",
    "\n",
    "plt.tight_layout()\n",
    "plt.savefig(image_path)"
   ]
  },
  {
   "cell_type": "markdown",
   "metadata": {},
   "source": [
    "## Average Sentiment Scores by Categories (Service: CL, Rating: 5)"
   ]
  },
  {
   "cell_type": "code",
   "execution_count": null,
   "metadata": {},
   "outputs": [],
   "source": [
    "groupby_vars = ['service', 'intent_servqual', 'student_rating']\n",
    "\n",
    "filter_var1 = 'service'\n",
    "filter_val1 = 'cl'\n",
    "filter_var2 = 'student_rating'\n",
    "filter_val2 = 5\n",
    "\n",
    "xlabel = 'SERVQUAL Categories'\n",
    "ylabel = 'Average Sentiment Score'\n",
    "title = f'Average Sentiment ({filter_var1.title()}: {filter_val1.upper()}, Rating: {filter_val2})'\n",
    "filename = title.replace(' ', '_').replace(':', '_').lower() + '.png'\n",
    "image_path = image_dir.joinpath(filename)\n",
    "\n",
    "data = (df\n",
    "        .groupby(groupby_vars)['sentiment_aggregated']\n",
    "        .mean()\n",
    "        .reset_index()\n",
    "        .query(f'{filter_var1} == @filter_val1 and {filter_var2} == @filter_val2')\n",
    "       )\n",
    "\n",
    "ax = sns.barplot(y='sentiment_aggregated',\n",
    "                 x='intent_servqual',\n",
    "                 data=data,\n",
    "                 )\n",
    "\n",
    "ax.set(xlabel=xlabel,\n",
    "       ylabel=ylabel,\n",
    "       title=title,\n",
    "      )\n",
    "\n",
    "ax.set_xticklabels(\n",
    "    labels=ax.get_xticklabels(),\n",
    "    rotation=45,\n",
    "    horizontalalignment='right',\n",
    "    )\n",
    "\n",
    "plt.tight_layout()\n",
    "plt.savefig(image_path)"
   ]
  },
  {
   "cell_type": "markdown",
   "metadata": {},
   "source": [
    "## Average Sentiment Scores by Categories (Service: WF, Rating: 1)"
   ]
  },
  {
   "cell_type": "code",
   "execution_count": null,
   "metadata": {},
   "outputs": [],
   "source": [
    "groupby_vars = ['service', 'intent_servqual', 'student_rating']\n",
    "\n",
    "filter_var1 = 'service'\n",
    "filter_val1 = 'wf'\n",
    "filter_var2 = 'student_rating'\n",
    "filter_val2 = 1\n",
    "\n",
    "xlabel = 'SERVQUAL Categories'\n",
    "ylabel = 'Average Sentiment Score'\n",
    "title = f'Average Sentiment ({filter_var1.title()}: {filter_val1.upper()}, Rating: {filter_val2})'\n",
    "filename = title.replace(' ', '_').replace(':', '_').lower() + '.png'\n",
    "image_path = image_dir.joinpath(filename)\n",
    "\n",
    "data = (df\n",
    "        .groupby(groupby_vars)['sentiment_aggregated']\n",
    "        .mean()\n",
    "        .reset_index()\n",
    "        .query(f'{filter_var1} == @filter_val1 and {filter_var2} == @filter_val2')\n",
    "       )\n",
    "\n",
    "ax = sns.barplot(y='sentiment_aggregated',\n",
    "                 x='intent_servqual',\n",
    "                 data=data,\n",
    "                 )\n",
    "\n",
    "ax.set(xlabel=xlabel,\n",
    "       ylabel=ylabel,\n",
    "       title=title,\n",
    "      )\n",
    "\n",
    "ax.set_xticklabels(\n",
    "    labels=ax.get_xticklabels(),\n",
    "    rotation=45,\n",
    "    horizontalalignment='right',\n",
    "    )\n",
    "\n",
    "plt.tight_layout()\n",
    "plt.savefig(image_path)"
   ]
  },
  {
   "cell_type": "markdown",
   "metadata": {},
   "source": [
    "## Average Sentiment Scores by Categories (Service: WF, Rating: 2)"
   ]
  },
  {
   "cell_type": "code",
   "execution_count": null,
   "metadata": {},
   "outputs": [],
   "source": [
    "groupby_vars = ['service', 'intent_servqual', 'student_rating']\n",
    "\n",
    "filter_var1 = 'service'\n",
    "filter_val1 = 'wf'\n",
    "filter_var2 = 'student_rating'\n",
    "filter_val2 = 2\n",
    "\n",
    "xlabel = 'SERVQUAL Categories'\n",
    "ylabel = 'Average Sentiment Score'\n",
    "title = f'Average Sentiment ({filter_var1.title()}: {filter_val1.upper()}, Rating: {filter_val2})'\n",
    "filename = title.replace(' ', '_').replace(':', '_').lower() + '.png'\n",
    "image_path = image_dir.joinpath(filename)\n",
    "\n",
    "data = (df\n",
    "        .groupby(groupby_vars)['sentiment_aggregated']\n",
    "        .mean()\n",
    "        .reset_index()\n",
    "        .query(f'{filter_var1} == @filter_val1 and {filter_var2} == @filter_val2')\n",
    "       )\n",
    "\n",
    "ax = sns.barplot(y='sentiment_aggregated',\n",
    "                 x='intent_servqual',\n",
    "                 data=data,\n",
    "                 )\n",
    "\n",
    "ax.set(xlabel=xlabel,\n",
    "       ylabel=ylabel,\n",
    "       title=title,\n",
    "      )\n",
    "\n",
    "ax.set_xticklabels(\n",
    "    labels=ax.get_xticklabels(),\n",
    "    rotation=45,\n",
    "    horizontalalignment='right',\n",
    "    )\n",
    "\n",
    "plt.tight_layout()\n",
    "plt.savefig(image_path)"
   ]
  },
  {
   "cell_type": "code",
   "execution_count": null,
   "metadata": {},
   "outputs": [],
   "source": [
    "groupby_vars = ['service', 'intent_servqual', 'student_rating']\n",
    "\n",
    "filter_var1 = 'service'\n",
    "filter_val1 = 'wf'\n",
    "filter_var2 = 'student_rating'\n",
    "filter_val2 = 3\n",
    "\n",
    "xlabel = 'SERVQUAL Categories'\n",
    "ylabel = 'Average Sentiment Score'\n",
    "title = f'Average Sentiment ({filter_var1.title()}: {filter_val1.upper()}, Rating: {filter_val2})'\n",
    "filename = title.replace(' ', '_').replace(':', '_').lower() + '.png'\n",
    "image_path = image_dir.joinpath(filename)\n",
    "\n",
    "data = (df\n",
    "        .groupby(groupby_vars)['sentiment_aggregated']\n",
    "        .mean()\n",
    "        .reset_index()\n",
    "        .query(f'{filter_var1} == @filter_val1 and {filter_var2} == @filter_val2')\n",
    "       )\n",
    "\n",
    "ax = sns.barplot(y='sentiment_aggregated',\n",
    "                 x='intent_servqual',\n",
    "                 data=data,\n",
    "                 )\n",
    "\n",
    "ax.set(xlabel=xlabel,\n",
    "       ylabel=ylabel,\n",
    "       title=title,\n",
    "      )\n",
    "\n",
    "ax.set_xticklabels(\n",
    "    labels=ax.get_xticklabels(),\n",
    "    rotation=45,\n",
    "    horizontalalignment='right',\n",
    "    )\n",
    "\n",
    "plt.tight_layout()\n",
    "plt.savefig(image_path)"
   ]
  },
  {
   "cell_type": "markdown",
   "metadata": {},
   "source": [
    "## Average Sentiment Scores by Categories (Service: WF, Rating: 4)"
   ]
  },
  {
   "cell_type": "code",
   "execution_count": null,
   "metadata": {},
   "outputs": [],
   "source": [
    "groupby_vars = ['service', 'intent_servqual', 'student_rating']\n",
    "\n",
    "filter_var1 = 'service'\n",
    "filter_val1 = 'wf'\n",
    "filter_var2 = 'student_rating'\n",
    "filter_val2 = 4\n",
    "\n",
    "xlabel = 'SERVQUAL Categories'\n",
    "ylabel = 'Average Sentiment Score'\n",
    "title = f'Average Sentiment ({filter_var1.title()}: {filter_val1.upper()}, Rating: {filter_val2})'\n",
    "filename = title.replace(' ', '_').replace(':', '_').lower() + '.png'\n",
    "image_path = image_dir.joinpath(filename)\n",
    "\n",
    "data = (df\n",
    "        .groupby(groupby_vars)['sentiment_aggregated']\n",
    "        .mean()\n",
    "        .reset_index()\n",
    "        .query(f'{filter_var1} == @filter_val1 and {filter_var2} == @filter_val2')\n",
    "       )\n",
    "\n",
    "ax = sns.barplot(y='sentiment_aggregated',\n",
    "                 x='intent_servqual',\n",
    "                 data=data,\n",
    "                 )\n",
    "\n",
    "ax.set(xlabel=xlabel,\n",
    "       ylabel=ylabel,\n",
    "       title=title,\n",
    "      )\n",
    "\n",
    "ax.set_xticklabels(\n",
    "    labels=ax.get_xticklabels(),\n",
    "    rotation=45,\n",
    "    horizontalalignment='right',\n",
    "    )\n",
    "\n",
    "plt.tight_layout()\n",
    "plt.savefig(image_path)"
   ]
  },
  {
   "cell_type": "markdown",
   "metadata": {},
   "source": [
    "## Average Sentiment Scores by Categories (Service: WF, Rating: 5)"
   ]
  },
  {
   "cell_type": "code",
   "execution_count": null,
   "metadata": {},
   "outputs": [],
   "source": [
    "groupby_vars = ['service', 'intent_servqual', 'student_rating']\n",
    "\n",
    "filter_var1 = 'service'\n",
    "filter_val1 = 'wf'\n",
    "filter_var2 = 'student_rating'\n",
    "filter_val2 = 5\n",
    "\n",
    "xlabel = 'SERVQUAL Categories'\n",
    "ylabel = 'Average Sentiment Score'\n",
    "title = f'Average Sentiment ({filter_var1.title()}: {filter_val1.upper()}, Rating: {filter_val2})'\n",
    "filename = title.replace(' ', '_').replace(':', '_').lower() + '.png'\n",
    "image_path = image_dir.joinpath(filename)\n",
    "\n",
    "data = (df\n",
    "        .groupby(groupby_vars)['sentiment_aggregated']\n",
    "        .mean()\n",
    "        .reset_index()\n",
    "        .query(f'{filter_var1} == @filter_val1 and {filter_var2} == @filter_val2')\n",
    "       )\n",
    "\n",
    "ax = sns.barplot(y='sentiment_aggregated',\n",
    "                 x='intent_servqual',\n",
    "                 data=data,\n",
    "                 )\n",
    "\n",
    "ax.set(xlabel=xlabel,\n",
    "       ylabel=ylabel,\n",
    "       title=title,\n",
    "      )\n",
    "\n",
    "ax.set_xticklabels(\n",
    "    labels=ax.get_xticklabels(),\n",
    "    rotation=45,\n",
    "    horizontalalignment='right',\n",
    "    )\n",
    "\n",
    "plt.tight_layout()\n",
    "plt.savefig(image_path)"
   ]
  },
  {
   "cell_type": "markdown",
   "metadata": {},
   "source": [
    "# Word Cloud"
   ]
  },
  {
   "cell_type": "code",
   "execution_count": null,
   "metadata": {},
   "outputs": [],
   "source": [
    "wordcloud_string = ' '.join(list(data_df_comments.student_comment_no_stopwords.values))"
   ]
  },
  {
   "cell_type": "code",
   "execution_count": null,
   "metadata": {},
   "outputs": [],
   "source": [
    "wordcloud = WordCloud(background_color=\"white\", \n",
    "                      max_words=20, \n",
    "                      contour_width=3, \n",
    "                      contour_color='steelblue',\n",
    "                      collocations=False)"
   ]
  },
  {
   "cell_type": "code",
   "execution_count": null,
   "metadata": {},
   "outputs": [],
   "source": [
    "wordcloud.generate(wordcloud_string)"
   ]
  },
  {
   "cell_type": "code",
   "execution_count": null,
   "metadata": {},
   "outputs": [],
   "source": [
    "wordcloud.to_image()"
   ]
  },
  {
   "cell_type": "markdown",
   "metadata": {},
   "source": [
    "# Matching Phrases Using `spaCy`"
   ]
  },
  {
   "cell_type": "code",
   "execution_count": null,
   "metadata": {},
   "outputs": [],
   "source": [
    "matcher = Matcher(nlp.vocab)"
   ]
  },
  {
   "cell_type": "code",
   "execution_count": null,
   "metadata": {},
   "outputs": [],
   "source": [
    "# Create a pattern for something like \"did something wrong\"\n",
    "pattern_name = 'DID_SOMETHING_WRONG'\n",
    "pattern = [{'POS': 'VERB'}, {'POS': 'DET', 'OP': '?'}, {'LOWER': 'wrong'}, {'POS': 'NOUN'}]\n",
    "matcher.add(pattern_name, None, pattern)"
   ]
  },
  {
   "cell_type": "code",
   "execution_count": null,
   "metadata": {},
   "outputs": [],
   "source": [
    "# Create a pattern for something like \"pressed the wrong button\"\n",
    "pattern_name = 'PRESSED_WRONG_BUTTON'\n",
    "pattern = [{'POS': 'VERB'}, {'POS': 'DET', 'OP': '?'}, {'LOWER': 'wrong'}, {'LOWER': 'button'}]\n",
    "matcher.add(pattern_name, None, pattern)"
   ]
  },
  {
   "cell_type": "code",
   "execution_count": null,
   "metadata": {},
   "outputs": [],
   "source": [
    "def get_match_list(doc):\n",
    "    \"\"\"Returns a dictionary of {match_pattern: span.text}\n",
    "    Note: match_pattern is string_id in the official documentation\n",
    "    \"\"\"\n",
    "    \n",
    "    matches = matcher(doc)\n",
    "    match_list = []\n",
    "    for match_id, start, end in matches:\n",
    "        match_pattern = nlp.vocab.strings[match_id]\n",
    "        span = doc[start:end]\n",
    "        match_list.append({match_pattern: span})\n",
    "    \n",
    "    return match_list if match_list else False"
   ]
  },
  {
   "cell_type": "code",
   "execution_count": null,
   "metadata": {},
   "outputs": [],
   "source": [
    "mask_press_wrong_button = data_df_comments.student_comment_processed.apply(lambda x: True if get_match_list(x) else False)\n",
    "print(sum(mask_press_wrong_button))"
   ]
  },
  {
   "cell_type": "code",
   "execution_count": null,
   "metadata": {},
   "outputs": [],
   "source": [
    "[*zip(data_df_comments.student_comment_processed[mask_press_wrong_button].apply(get_match_list), data_df_comments.student_comment_processed[mask_press_wrong_button])]"
   ]
  },
  {
   "cell_type": "code",
   "execution_count": null,
   "metadata": {},
   "outputs": [],
   "source": [
    "data_df_comments[mask_press_wrong_button][['student_comment', 'student_rating', 'start_at']]"
   ]
  },
  {
   "cell_type": "code",
   "execution_count": null,
   "metadata": {},
   "outputs": [],
   "source": [
    "sns.countplot(x='service', data=data_df_comments[mask_press_wrong_button])"
   ]
  },
  {
   "cell_type": "code",
   "execution_count": null,
   "metadata": {},
   "outputs": [],
   "source": [
    "sns.countplot(x='student_rating', data=data_df_comments[mask_press_wrong_button])"
   ]
  },
  {
   "cell_type": "markdown",
   "metadata": {},
   "source": [
    "# Sentiment"
   ]
  },
  {
   "cell_type": "code",
   "execution_count": null,
   "metadata": {},
   "outputs": [],
   "source": [
    "data_df_comments.groupby('student_rating')['sentiment_textblob'].mean().plot(kind='bar')"
   ]
  },
  {
   "cell_type": "markdown",
   "metadata": {},
   "source": [
    "### Distribution of Ratings vs Sentiment (TextBlob)"
   ]
  },
  {
   "cell_type": "markdown",
   "metadata": {},
   "source": [
    "In this section we want to see the distribution of the ratings and the distribution of the sentiment. Note that the plot of the ratings don't include the rows without ratings, so the data for the sentiment is also appropriately subsetted."
   ]
  },
  {
   "cell_type": "code",
   "execution_count": null,
   "metadata": {},
   "outputs": [],
   "source": [
    "title = 'Distribution of Ratings'\n",
    "sns.distplot(data_df_comments[data_df_comments.student_rating.notna()]['student_rating'],\n",
    "             kde=False,\n",
    "             rug=False).set_title(title)"
   ]
  },
  {
   "cell_type": "code",
   "execution_count": null,
   "metadata": {},
   "outputs": [],
   "source": [
    "title = 'Distribution of Sentiments (TextBlob)'\n",
    "sns.distplot(data_df_comments[data_df_comments.student_rating.notna()]['sentiment_textblob'],\n",
    "             kde=False,\n",
    "             rug=False).set_title(title)"
   ]
  },
  {
   "cell_type": "markdown",
   "metadata": {},
   "source": [
    "There are 153 rows which don't have a rating. Let's see the distribution of the sentiments for these rows."
   ]
  },
  {
   "cell_type": "code",
   "execution_count": null,
   "metadata": {},
   "outputs": [],
   "source": [
    "sns.distplot(data_df_comments[data_df_comments.student_rating.isna()]['sentiment_textblob'],\n",
    "             kde=False,\n",
    "             rug=True).set_title(\"Blank Rating: Distribution of TextBlob Sentiment\")"
   ]
  },
  {
   "cell_type": "markdown",
   "metadata": {},
   "source": [
    "The distribution is quite wide from -0.5 to a max of 1.0."
   ]
  },
  {
   "cell_type": "markdown",
   "metadata": {},
   "source": [
    "### Rating/Sentiment Inconsistencies `TextBlob`"
   ]
  },
  {
   "cell_type": "code",
   "execution_count": null,
   "metadata": {},
   "outputs": [],
   "source": [
    "data_df_comments.query('sentiment_textblob < 0 and student_rating > 3')[['student_rating', 'student_comment_apostrophe', 'sentiment_textblob']]"
   ]
  },
  {
   "cell_type": "markdown",
   "metadata": {},
   "source": [
    "### `TextBlob` Caveats<a id='textblob-caveats'></a>"
   ]
  },
  {
   "cell_type": "code",
   "execution_count": null,
   "metadata": {},
   "outputs": [],
   "source": [
    "test_sentences = [\"It's anything but good.\",\n",
    "                  \"It's good.\",\n",
    "                  \"Extremely helpful.\",\n",
    "                  \"Very helpful.\"]"
   ]
  },
  {
   "cell_type": "code",
   "execution_count": null,
   "metadata": {},
   "outputs": [],
   "source": [
    "for sent in test_sentences:\n",
    "    print(f\"Sentence: {sent} \\nScore: {TextBlob(sent).sentiment.polarity}\")"
   ]
  },
  {
   "cell_type": "code",
   "execution_count": null,
   "metadata": {},
   "outputs": [],
   "source": [
    "print(TextBlob(\"It's anything but good.\").sentiment)\n",
    "print(TextBlob(\"It's good.\").sentiment)\n",
    "print(TextBlob(\"Extremely helpful\").sentiment)\n",
    "print(TextBlob(\"Very helpful\").sentiment)"
   ]
  },
  {
   "cell_type": "markdown",
   "metadata": {},
   "source": [
    "# Aggregated Sentiment Scores by SERVQUAL Categories"
   ]
  },
  {
   "cell_type": "code",
   "execution_count": null,
   "metadata": {},
   "outputs": [],
   "source": [
    "cols = [\n",
    "    'sentiment_textblob', \n",
    "    'sentiment_vader',\n",
    "    'sentiment_luis',\n",
    "    'sentiment_aggregated',\n",
    "]\n",
    "\n",
    "group_cols = [\n",
    "    'intent_servqual'\n",
    "]\n",
    "\n",
    "aggregated_sentiment_total_df = df.groupby(group_cols)[cols].mean()\n",
    "aggregated_sentiment_total_df"
   ]
  },
  {
   "cell_type": "code",
   "execution_count": null,
   "metadata": {},
   "outputs": [],
   "source": [
    "filepath = report_dir.joinpath('aggregated_sentiment_total.csv')\n",
    "aggregated_sentiment_total_df.to_csv(filepath)"
   ]
  },
  {
   "cell_type": "code",
   "execution_count": null,
   "metadata": {},
   "outputs": [],
   "source": [
    "cols = [\n",
    "    'sentiment_textblob', \n",
    "    'sentiment_vader',\n",
    "    'sentiment_luis',\n",
    "    'sentiment_aggregated',\n",
    "]\n",
    "\n",
    "group_cols = [\n",
    "    'student_rating',\n",
    "    'intent_servqual'\n",
    "]\n",
    "\n",
    "aggregated_sentiment_df = df.groupby(group_cols)[cols].mean()\n",
    "aggregated_sentiment_df"
   ]
  },
  {
   "cell_type": "markdown",
   "metadata": {},
   "source": [
    "# By Student"
   ]
  },
  {
   "cell_type": "code",
   "execution_count": null,
   "metadata": {},
   "outputs": [],
   "source": [
    "df.columns"
   ]
  },
  {
   "cell_type": "markdown",
   "metadata": {},
   "source": [
    "## Number of Unique Students"
   ]
  },
  {
   "cell_type": "markdown",
   "metadata": {},
   "source": [
    "There are 113411 unique number of students. This averages to about 4.5 sessions per student over the analysis period. Obviously there would be variations as some students would have only used the service once and others multiple times."
   ]
  },
  {
   "cell_type": "code",
   "execution_count": null,
   "metadata": {},
   "outputs": [],
   "source": [
    "df.student_id.nunique()\n",
    "df.shape[0] / df.student_id.nunique()"
   ]
  },
  {
   "cell_type": "markdown",
   "metadata": {},
   "source": [
    "### Number of Unique Students by `service`"
   ]
  },
  {
   "cell_type": "code",
   "execution_count": null,
   "metadata": {},
   "outputs": [],
   "source": [
    "df_unique = pd.DataFrame({'num_sessions': df.groupby('service')['student_id'].count(),\n",
    "                          'num_unique_students': df.groupby('service')['student_id'].nunique(),\n",
    "                          'num_unique_tutors': df.groupby('service')['tutor_id'].nunique()})\n",
    "\n",
    "df_unique['perc_unique_students'] = df_unique.num_unique_students / df_unique.num_sessions\n",
    "df_unique['perc_unique_tutors'] = df_unique.num_unique_tutors / df_unique.num_sessions\n",
    "\n",
    "print(df_unique.transpose())"
   ]
  },
  {
   "cell_type": "code",
   "execution_count": null,
   "metadata": {},
   "outputs": [],
   "source": [
    "df_unique"
   ]
  },
  {
   "cell_type": "markdown",
   "metadata": {},
   "source": [
    "There are slighly higher percentage of unique students in the WF service than in the CL service. In other words, there are more repeat students in WF, though not by much.\n",
    "\n",
    "For the tutors however, there is a lot more repeats at 0.3% and 0.2% uniqueness for CL and WF respectively."
   ]
  },
  {
   "cell_type": "code",
   "execution_count": null,
   "metadata": {},
   "outputs": [],
   "source": [
    "df_unique=df_unique.reset_index().melt(id_vars=['service'])\n",
    "df_unique"
   ]
  },
  {
   "cell_type": "code",
   "execution_count": null,
   "metadata": {},
   "outputs": [],
   "source": [
    "df_unique['party'] = ['total', 'total', 'students', 'students', 'tutors', 'tutors', 'students', 'students', 'tutors', 'tutors']\n",
    "df_unique"
   ]
  },
  {
   "cell_type": "code",
   "execution_count": null,
   "metadata": {},
   "outputs": [],
   "source": [
    "df_unique['variable'] = df_unique.variable.str.replace('_students', '')\n",
    "df_unique['variable'] = df_unique.variable.str.replace('_tutors', '')"
   ]
  },
  {
   "cell_type": "code",
   "execution_count": null,
   "metadata": {},
   "outputs": [],
   "source": [
    "df_unique"
   ]
  },
  {
   "cell_type": "code",
   "execution_count": null,
   "metadata": {},
   "outputs": [],
   "source": [
    "df_unique.query('variable == \"perc_unique\" and party != \"total\"')"
   ]
  },
  {
   "cell_type": "code",
   "execution_count": null,
   "metadata": {},
   "outputs": [],
   "source": [
    "plot_df = df_unique.query('variable == \"perc_unique\" and party == \"students\"')\n",
    "\n",
    "ax = sns.barplot(x='service', y='value', data=plot_df)\n",
    "ax.set(title = '% of Unique Students',\n",
    "       xlabel = 'service',\n",
    "       ylabel = '')"
   ]
  },
  {
   "cell_type": "code",
   "execution_count": null,
   "metadata": {},
   "outputs": [],
   "source": [
    "plot_df = df_unique.query('variable == \"perc_unique\" and party == \"tutors\"')\n",
    "\n",
    "ax = sns.barplot(x='service', y='value', data=plot_df)\n",
    "ax.set(title = '% of Unique Tutors',\n",
    "       xlabel = 'service',\n",
    "       ylabel = '')"
   ]
  },
  {
   "cell_type": "markdown",
   "metadata": {},
   "source": [
    "## Rating Distribution Per Student"
   ]
  },
  {
   "cell_type": "markdown",
   "metadata": {},
   "source": [
    "First add a column that is 1 if there is a comment and 0 otherwise."
   ]
  },
  {
   "cell_type": "code",
   "execution_count": null,
   "metadata": {},
   "outputs": [],
   "source": [
    "comment_ind = df.student_comment.apply(lambda x: 1 if len(x) > 0 else 0)"
   ]
  },
  {
   "cell_type": "code",
   "execution_count": null,
   "metadata": {},
   "outputs": [],
   "source": [
    "utils.save_object('comment_ind', comment_ind, column_dir)"
   ]
  },
  {
   "cell_type": "code",
   "execution_count": null,
   "metadata": {},
   "outputs": [],
   "source": [
    "df = utils.add_column(df, 'comment_ind')"
   ]
  },
  {
   "cell_type": "code",
   "execution_count": null,
   "metadata": {},
   "outputs": [],
   "source": [
    "df_unique_students = pd.DataFrame({'num_comments': df.groupby(['student_id'])['comment_ind'].sum(),\n",
    "                                   'average_num_comments': df.groupby(['student_id'])['comment_ind'].mean(),\n",
    "                                   'average_comments_word_length': df.groupby(['student_id'])['length_word_comment'].mean(),\n",
    "                                   'std_comments_word_length': df.groupby(['student_id'])['length_word_comment'].std()})"
   ]
  },
  {
   "cell_type": "code",
   "execution_count": null,
   "metadata": {},
   "outputs": [],
   "source": [
    "df_unique_students.head()"
   ]
  },
  {
   "cell_type": "markdown",
   "metadata": {},
   "source": [
    "Percentage of students who comment:"
   ]
  },
  {
   "cell_type": "code",
   "execution_count": null,
   "metadata": {},
   "outputs": [],
   "source": [
    "num_unique_students_commented = df_unique_students.query('num_comments > 0').shape[0]\n",
    "num_unique_students = df_unique_students.shape[0]\n",
    "average_students_commented = num_unique_students_commented/num_unique_students"
   ]
  },
  {
   "cell_type": "code",
   "execution_count": null,
   "metadata": {},
   "outputs": [],
   "source": [
    "print(f\"Number of students who commented:          {num_unique_students_commented}\")\n",
    "print(f\"Total number of unique students:           {num_unique_students}\")\n",
    "print(f\"Average number of students who commented:  {average_students_commented: .2f}\")"
   ]
  },
  {
   "cell_type": "code",
   "execution_count": null,
   "metadata": {},
   "outputs": [],
   "source": [
    "sns.distplot(a=df_unique_students.reset_index().query('num_comments > 0')['average_num_comments'],\n",
    "             kde=False)"
   ]
  },
  {
   "cell_type": "markdown",
   "metadata": {},
   "source": [
    "# Correlation: Waiting Time vs `student_rating_fixed`"
   ]
  },
  {
   "cell_type": "markdown",
   "metadata": {},
   "source": [
    "Waiting time has different meanings in CL and WF. In CL it's the time that the student waited to be matched with a tutor; the scale is in seconds. In WF it's the time between submission and the students' receiving the feedback on their document, this can be up to days.\n",
    "\n",
    "There are {{len(df_merged.client_type_desc.unique())}} different"
   ]
  },
  {
   "cell_type": "code",
   "execution_count": null,
   "metadata": {},
   "outputs": [],
   "source": [
    "len(df_merged.client_type_desc.unique())"
   ]
  },
  {
   "cell_type": "code",
   "execution_count": null,
   "metadata": {},
   "outputs": [],
   "source": [
    "filter_var = 'service'\n",
    "filter_val = 'CL'\n",
    "op = '=='\n",
    "var1 = 'student_rating'\n",
    "var2 = 'wait_seconds'\n",
    "subset_list = [var1, var2]\n",
    "\n",
    "# cl_df_formatted[subset_list].dropna(subset=['student_rating']).corr()\n",
    "\n",
    "sns.swarmplot(x=var1, y=var2, data=cl_df_formatted[subset_list].dropna(subset=['student_rating']))"
   ]
  },
  {
   "cell_type": "markdown",
   "metadata": {},
   "source": [
    "## Writing Feedback Waiting Time vs `student_rating_fixed`"
   ]
  },
  {
   "cell_type": "code",
   "execution_count": null,
   "metadata": {},
   "outputs": [],
   "source": [
    "waiting_time_groups = ['service', 'client_type', ]"
   ]
  },
  {
   "cell_type": "code",
   "execution_count": null,
   "metadata": {},
   "outputs": [],
   "source": [
    "wf_df_formatted.columns"
   ]
  },
  {
   "cell_type": "code",
   "execution_count": null,
   "metadata": {},
   "outputs": [],
   "source": [
    "wf_waiting_time = wf_df_formatted.completed_at - wf_df_formatted.start_at\n",
    "wf_waiting_time.head()"
   ]
  },
  {
   "cell_type": "code",
   "execution_count": null,
   "metadata": {},
   "outputs": [],
   "source": [
    "wf_waiting_time.describe()"
   ]
  },
  {
   "cell_type": "markdown",
   "metadata": {},
   "source": [
    "Convert the `Timedelta` objects to seconds so it can be joined with the waiting time column of Connect Live."
   ]
  },
  {
   "cell_type": "code",
   "execution_count": null,
   "metadata": {},
   "outputs": [],
   "source": [
    "wf_df_formatted['wait_seconds'] = wf_waiting_time.apply(utils.get_seconds_from_timedelta)"
   ]
  },
  {
   "cell_type": "code",
   "execution_count": null,
   "metadata": {},
   "outputs": [],
   "source": [
    "def calc_td_stats(data, func = np.mean):\n",
    "    return pd.to_timedelta(func(data.values.astype(np.int64)))"
   ]
  },
  {
   "cell_type": "code",
   "execution_count": null,
   "metadata": {},
   "outputs": [],
   "source": [
    "wf_df_formatted.groupby('student_rating')['wait_seconds']"
   ]
  },
  {
   "cell_type": "code",
   "execution_count": null,
   "metadata": {},
   "outputs": [],
   "source": [
    "data = pd.DataFrame({'mean_wait_time': wf_df_formatted.groupby('student_rating')['wait_seconds'].mean()\n",
    "                     ,'std_wait_time': wf_df_formatted.groupby('student_rating')['wait_seconds'].std()})"
   ]
  },
  {
   "cell_type": "code",
   "execution_count": null,
   "metadata": {},
   "outputs": [],
   "source": [
    "filter_var = 'service'\n",
    "filter_val = 'WF'\n",
    "op = '=='\n",
    "var1 = data.index\n",
    "var2 = 'mean_wait_time'\n",
    "subset_list = [var1, var2]\n",
    "\n",
    "title = f'Average Wait Time vs Student Rating: service = {filter_val}'\n",
    "x_label = 'Student Rating'\n",
    "y_label = 'Average Time (Seconds)'\n",
    "\n",
    "ax = sns.barplot(x=var1\n",
    "                 ,y=var2\n",
    "                 , data=data\n",
    "                )\n",
    "\n",
    "ax.set(title=title\n",
    "       ,xlabel=x_label\n",
    "       ,ylabel=y_label)"
   ]
  },
  {
   "cell_type": "code",
   "execution_count": null,
   "metadata": {},
   "outputs": [],
   "source": [
    "filter_var = 'service'\n",
    "filter_val = 'WF'\n",
    "op = '=='\n",
    "var1 = data.index\n",
    "var2 = 'std_wait_time'\n",
    "subset_list = [var1, var2]\n",
    "\n",
    "title = f'Standard Deviation Wait Time vs Student Rating: service = {filter_val}'\n",
    "x_label = 'Student Rating'\n",
    "y_label = 'Average Time (Seconds)'\n",
    "\n",
    "ax = sns.barplot(x=var1\n",
    "                 ,y=var2\n",
    "                 , data=data\n",
    "                )\n",
    "\n",
    "ax.set(title=title\n",
    "       ,xlabel=x_label\n",
    "       ,ylabel=y_label)"
   ]
  },
  {
   "cell_type": "markdown",
   "metadata": {},
   "source": [
    "## Connect Live Waiting Time vs `student_rating_fixed`"
   ]
  },
  {
   "cell_type": "code",
   "execution_count": null,
   "metadata": {},
   "outputs": [],
   "source": [
    "data = pd.DataFrame({'mean_wait_time': cl_df_formatted.groupby('student_rating')['wait_seconds'].mean()\n",
    "                     ,'std_wait_time': cl_df_formatted.groupby('student_rating')['wait_seconds'].std()})"
   ]
  },
  {
   "cell_type": "code",
   "execution_count": null,
   "metadata": {},
   "outputs": [],
   "source": [
    "filter_var = 'service'\n",
    "filter_val = 'CL'\n",
    "op = '=='\n",
    "var1 = data.index\n",
    "var2 = 'mean_wait_time'\n",
    "subset_list = [var1, var2]\n",
    "\n",
    "title = f'Average Wait Time vs Student Rating: service = {filter_val}'\n",
    "x_label = 'Student Rating'\n",
    "y_label = 'Average Time (Seconds)'\n",
    "\n",
    "ax = sns.barplot(x=var1\n",
    "                 ,y=var2\n",
    "                 , data=data\n",
    "                )\n",
    "\n",
    "ax.set(title=title\n",
    "       ,xlabel=x_label\n",
    "       ,ylabel=y_label)\n",
    "\n"
   ]
  },
  {
   "cell_type": "code",
   "execution_count": null,
   "metadata": {},
   "outputs": [],
   "source": [
    "filter_var = 'service'\n",
    "filter_val = 'CL'\n",
    "op = '=='\n",
    "var1 = data.index\n",
    "var2 = 'std_wait_time'\n",
    "subset_list = [var1, var2]\n",
    "\n",
    "title = f'Standard Deviation Wait Time vs Student Rating: service = {filter_val}'\n",
    "\n",
    "ax = sns.barplot(x=var1\n",
    "                 ,y=var2\n",
    "                 , data=data\n",
    "                )\n",
    "\n",
    "ax.set(title=title\n",
    "       ,xlabel=x_label\n",
    "       ,ylabel=y_label)"
   ]
  },
  {
   "cell_type": "markdown",
   "metadata": {
    "jupyter": {
     "outputs_hidden": true
    }
   },
   "source": [
    "# Intents"
   ]
  },
  {
   "cell_type": "code",
   "execution_count": null,
   "metadata": {},
   "outputs": [],
   "source": [
    "df.query('luis_intent_pickle != \"None\"').luis_intent_pickle.value_counts().index"
   ]
  },
  {
   "cell_type": "code",
   "execution_count": null,
   "metadata": {},
   "outputs": [],
   "source": [
    "order_intent_full = df.query('luis_intent_pickle != \"None\"').luis_intent_pickle.value_counts().index"
   ]
  },
  {
   "cell_type": "code",
   "execution_count": null,
   "metadata": {},
   "outputs": [],
   "source": [
    "title = 'Count of Intents (excl NONE)'\n",
    "x_label = 'Count'\n",
    "y_label = 'Intent'\n",
    "\n",
    "ax = sns.countplot(y='luis_intent_pickle'\n",
    "                   ,data = df.query('luis_intent_pickle != \"None\"')\n",
    "                   ,order = order_intent_full\n",
    "                  )\n",
    "\n",
    "ax.set(xlabel=x_label\n",
    "       ,ylabel=y_label\n",
    "       ,title=title)\n",
    "\n",
    "# Saving\n",
    "filename = title.replace(' ', '_').replace(':', '').lower() + '.png'\n",
    "image_path = image_dir.joinpath(filename)\n",
    "plt.tight_layout()\n",
    "plt.savefig(image_path)"
   ]
  },
  {
   "cell_type": "markdown",
   "metadata": {},
   "source": [
    "## Intents by Sex"
   ]
  },
  {
   "cell_type": "code",
   "execution_count": null,
   "metadata": {},
   "outputs": [],
   "source": [
    "sex = 'male'\n",
    "\n",
    "title = f'Count of Intents (excl NONE): {sex}'\n",
    "x_label = 'Count'\n",
    "y_label = 'Intent'\n",
    "\n",
    "data = df.query('luis_intent_pickle != \"None\" and gender_guess_mfu == @sex')['luis_intent_pickle']\n",
    "\n",
    "ax = sns.countplot(y=data\n",
    "                   ,order = order_intent_full\n",
    "                  )\n",
    "\n",
    "ax.set(xlabel=x_label\n",
    "       ,ylabel=y_label\n",
    "       ,title=title)"
   ]
  },
  {
   "cell_type": "code",
   "execution_count": null,
   "metadata": {},
   "outputs": [],
   "source": [
    "sex = 'female'\n",
    "\n",
    "title = f'Count of Intents (excl NONE): {sex}'\n",
    "x_label = 'Count'\n",
    "y_label = 'Intent'\n",
    "\n",
    "data = df.query('luis_intent_pickle != \"None\" and gender_guess_mfu == @sex')['luis_intent_pickle']\n",
    "\n",
    "ax = sns.countplot(y=data\n",
    "                   ,order = order_intent_full\n",
    "                  )\n",
    "\n",
    "ax.set(xlabel=x_label\n",
    "       ,ylabel=y_label\n",
    "       ,title=title)"
   ]
  },
  {
   "cell_type": "code",
   "execution_count": null,
   "metadata": {},
   "outputs": [],
   "source": [
    "sex = 'unknown'\n",
    "\n",
    "title = f'Count of Intents (excl NONE): {sex}'\n",
    "x_label = 'Count'\n",
    "y_label = 'Intent'\n",
    "\n",
    "data = df.query('luis_intent_pickle != \"None\" and gender_guess_mfu == @sex')['luis_intent_pickle']\n",
    "\n",
    "ax = sns.countplot(y=data\n",
    "                   ,order = order_intent_full\n",
    "                  )\n",
    "\n",
    "ax.set(xlabel=x_label\n",
    "       ,ylabel=y_label\n",
    "       ,title=title)"
   ]
  },
  {
   "cell_type": "markdown",
   "metadata": {},
   "source": [
    "## Intents by Rating"
   ]
  },
  {
   "cell_type": "code",
   "execution_count": null,
   "metadata": {},
   "outputs": [],
   "source": [
    "second_dimension = 'student_rating'\n",
    "value = 1\n",
    "\n",
    "title = f'Count of Intents (excl NONE): {second_dimension} = {value}'\n",
    "x_label = 'Count'\n",
    "y_label = 'Intent'\n",
    "\n",
    "data = df.query(f'luis_intent_pickle != \"None\" and {second_dimension} == @value')['luis_intent_pickle']\n",
    "\n",
    "ax = sns.countplot(y=data\n",
    "                   ,order = order_intent_full\n",
    "                  )\n",
    "\n",
    "ax.set(xlabel=x_label\n",
    "       ,ylabel=y_label\n",
    "       ,title=title)"
   ]
  },
  {
   "cell_type": "code",
   "execution_count": null,
   "metadata": {},
   "outputs": [],
   "source": [
    "second_dimension = 'student_rating'\n",
    "value = 2\n",
    "\n",
    "title = f'Count of Intents (excl NONE): {second_dimension} = {value}'\n",
    "x_label = 'Count'\n",
    "y_label = 'Intent'\n",
    "\n",
    "data = df.query(f'luis_intent_pickle != \"None\" and {second_dimension} == @value')['luis_intent_pickle']\n",
    "\n",
    "ax = sns.countplot(y=data\n",
    "                   ,order = order_intent_full\n",
    "                  )\n",
    "\n",
    "ax.set(xlabel=x_label\n",
    "       ,ylabel=y_label\n",
    "       ,title=title)"
   ]
  },
  {
   "cell_type": "code",
   "execution_count": null,
   "metadata": {},
   "outputs": [],
   "source": [
    "second_dimension = 'student_rating'\n",
    "value = 3\n",
    "\n",
    "title = f'Count of Intents (excl NONE): {second_dimension} = {value}'\n",
    "x_label = 'Count'\n",
    "y_label = 'Intent'\n",
    "\n",
    "data = df.query(f'luis_intent_pickle != \"None\" and {second_dimension} == @value')['luis_intent_pickle']\n",
    "\n",
    "ax = sns.countplot(y=data\n",
    "                   ,order = order_intent_full\n",
    "                  )\n",
    "\n",
    "ax.set(xlabel=x_label\n",
    "       ,ylabel=y_label\n",
    "       ,title=title)"
   ]
  },
  {
   "cell_type": "code",
   "execution_count": null,
   "metadata": {},
   "outputs": [],
   "source": [
    "second_dimension = 'student_rating'\n",
    "value = 4\n",
    "\n",
    "title = f'Count of Intents (excl NONE): {second_dimension} = {value}'\n",
    "x_label = 'Count'\n",
    "y_label = 'Intent'\n",
    "\n",
    "data = df.query(f'luis_intent_pickle != \"None\" and {second_dimension} == @value')['luis_intent_pickle']\n",
    "\n",
    "ax = sns.countplot(y=data\n",
    "                   ,order = order_intent_full\n",
    "                  )\n",
    "\n",
    "ax.set(xlabel=x_label\n",
    "       ,ylabel=y_label\n",
    "       ,title=title)"
   ]
  },
  {
   "cell_type": "code",
   "execution_count": null,
   "metadata": {},
   "outputs": [],
   "source": [
    "second_dimension = 'student_rating'\n",
    "value = 5\n",
    "\n",
    "title = f'Count of Intents (excl NONE): {second_dimension} = {value}'\n",
    "x_label = 'Count'\n",
    "y_label = 'Intent'\n",
    "\n",
    "data = df.query(f'luis_intent_pickle != \"None\" and {second_dimension} == @value')['luis_intent_pickle']\n",
    "\n",
    "ax = sns.countplot(y=data\n",
    "                   ,order = order_intent_full\n",
    "                  )\n",
    "\n",
    "ax.set(xlabel=x_label\n",
    "       ,ylabel=y_label\n",
    "       ,title=title)"
   ]
  },
  {
   "cell_type": "markdown",
   "metadata": {},
   "source": [
    "## Intents by Service"
   ]
  },
  {
   "cell_type": "code",
   "execution_count": null,
   "metadata": {},
   "outputs": [],
   "source": [
    "second_dimension = 'service'\n",
    "value = 'CL'\n",
    "\n",
    "title = f'Count of Intents (excl NONE): {second_dimension} = {value}'\n",
    "x_label = 'Count'\n",
    "y_label = 'Intent'\n",
    "\n",
    "data = df.query(f'luis_intent_pickle != \"None\" and {second_dimension} == @value')['luis_intent_pickle']\n",
    "\n",
    "ax = sns.countplot(y=data\n",
    "                   ,order = order_intent_full\n",
    "                  )\n",
    "\n",
    "ax.set(xlabel=x_label\n",
    "       ,ylabel=y_label\n",
    "       ,title=title)"
   ]
  },
  {
   "cell_type": "code",
   "execution_count": null,
   "metadata": {},
   "outputs": [],
   "source": [
    "second_dimension = 'service'\n",
    "value = 'WF'\n",
    "\n",
    "title = f'Count of Intents (excl NONE): {second_dimension} = {value}'\n",
    "x_label = 'Count'\n",
    "y_label = 'Intent'\n",
    "\n",
    "data = df.query(f'luis_intent_pickle != \"None\" and {second_dimension} == @value')['luis_intent_pickle']\n",
    "\n",
    "ax = sns.countplot(y=data\n",
    "                   ,order = order_intent_full\n",
    "                  )\n",
    "\n",
    "ax.set(xlabel=x_label\n",
    "       ,ylabel=y_label\n",
    "       ,title=title)"
   ]
  },
  {
   "cell_type": "markdown",
   "metadata": {},
   "source": [
    "# Word Cloud"
   ]
  },
  {
   "cell_type": "code",
   "execution_count": null,
   "metadata": {},
   "outputs": [],
   "source": [
    "wordcloud_string = ' '.join(list(data_df_comments.student_comment_no_stopwords.values))"
   ]
  },
  {
   "cell_type": "code",
   "execution_count": null,
   "metadata": {},
   "outputs": [],
   "source": [
    "wordcloud = WordCloud(background_color=\"white\", \n",
    "                      max_words=20, \n",
    "                      contour_width=3, \n",
    "                      contour_color='steelblue',\n",
    "                      collocations=False)"
   ]
  },
  {
   "cell_type": "code",
   "execution_count": null,
   "metadata": {},
   "outputs": [],
   "source": [
    "wordcloud.generate(wordcloud_string)"
   ]
  },
  {
   "cell_type": "code",
   "execution_count": null,
   "metadata": {},
   "outputs": [],
   "source": [
    "wordcloud.to_image()"
   ]
  },
  {
   "cell_type": "markdown",
   "metadata": {},
   "source": [
    "### Wordcloud by Rating "
   ]
  },
  {
   "cell_type": "code",
   "execution_count": null,
   "metadata": {},
   "outputs": [],
   "source": [
    "def generate_wordcloud(data: pd.DataFrame, rating: int = None) -> WordCloud:\n",
    "    \n",
    "    \n",
    "    if rating is None:\n",
    "        subset_df = data\n",
    "    else:\n",
    "        subset_df = data.query('student_rating == @rating')\n",
    "        \n",
    "    wordcloud_string = ' '.join(list(subset_df.student_comment_no_stopwords.values))\n",
    "    wordcloud = WordCloud(background_color=\"white\", \n",
    "                          max_words=20, \n",
    "                          contour_width=3, \n",
    "                          contour_color='steelblue',\n",
    "                          collocations=False)\n",
    "    \n",
    "    return wordcloud.generate(wordcloud_string)"
   ]
  },
  {
   "cell_type": "code",
   "execution_count": null,
   "metadata": {},
   "outputs": [],
   "source": [
    "generate_wordcloud(data = data_df_comments, rating = 1).to_image()"
   ]
  },
  {
   "cell_type": "code",
   "execution_count": null,
   "metadata": {},
   "outputs": [],
   "source": [
    "generate_wordcloud(data = data_df_comments, rating = 2).to_image()"
   ]
  },
  {
   "cell_type": "code",
   "execution_count": null,
   "metadata": {},
   "outputs": [],
   "source": [
    "generate_wordcloud(data = data_df_comments, rating = 3).to_image()"
   ]
  },
  {
   "cell_type": "code",
   "execution_count": null,
   "metadata": {},
   "outputs": [],
   "source": [
    "generate_wordcloud(data = data_df_comments, rating = 4).to_image()"
   ]
  },
  {
   "cell_type": "code",
   "execution_count": null,
   "metadata": {},
   "outputs": [],
   "source": [
    "generate_wordcloud(data = data_df_comments, rating = 5).to_image()"
   ]
  },
  {
   "cell_type": "markdown",
   "metadata": {},
   "source": [
    "There seems to be a lot of \"feedback\". Let's see what the actual context is."
   ]
  },
  {
   "cell_type": "code",
   "execution_count": null,
   "metadata": {},
   "outputs": [],
   "source": [
    "data_df_comments[data_df_comments.student_comment.str.contains('feedback')][['student_rating', 'student_comment']]"
   ]
  },
  {
   "cell_type": "markdown",
   "metadata": {},
   "source": [
    "# ngrams (Combined CL and WF)"
   ]
  },
  {
   "cell_type": "code",
   "execution_count": null,
   "metadata": {},
   "outputs": [],
   "source": [
    "wordcloud = WordCloud(max_words = 8, background_color='white')"
   ]
  },
  {
   "cell_type": "markdown",
   "metadata": {},
   "source": [
    "### Remove Punctuation and Stopwords"
   ]
  },
  {
   "cell_type": "code",
   "execution_count": null,
   "metadata": {},
   "outputs": [],
   "source": [
    "data_df_comments['student_comment_nopunct'] = data_df_comments.student_comment_processed.apply(lambda x: ' '.join([token.orth_.lower() for token in x if not token.is_punct]))"
   ]
  },
  {
   "cell_type": "code",
   "execution_count": null,
   "metadata": {},
   "outputs": [],
   "source": [
    "data_df_comments['student_comment_nopunct_nostopwords'] = data_df_comments.student_comment_processed.apply(lambda x: ' '.join([token.orth_.lower() for token in x if not token.is_stop and not token.is_punct]))"
   ]
  },
  {
   "cell_type": "code",
   "execution_count": null,
   "metadata": {},
   "outputs": [],
   "source": [
    "def create_ngram_dict(text_col: pd.Series, n: int) -> defaultdict:\n",
    "    \"\"\"Create a, n-word frequency dictionary\"\"\"\n",
    "    ngram_dict = defaultdict(int)\n",
    "    for text in text_col:\n",
    "        tokens = word_tokenize(text)\n",
    "        for ngram in ngrams(tokens, n):\n",
    "            key = ' '.join(ngram)\n",
    "            ngram_dict[key] += 1\n",
    "        \n",
    "    return ngram_dict"
   ]
  },
  {
   "cell_type": "code",
   "execution_count": null,
   "metadata": {},
   "outputs": [],
   "source": [
    "def ddict_to_df(ddict):\n",
    "    \"\"\"Converts a defaultdict of frequencies to a pandas dataframe\"\"\"\n",
    "    name_list = []\n",
    "    freq_list = []\n",
    "    for key, value in ddict.items():\n",
    "        name_list.append(key)\n",
    "        freq_list.append(value)\n",
    "    \n",
    "    ngram_df = pd.DataFrame({'word': name_list, 'frequency': freq_list})\n",
    "    ngram_df.sort_values(by = 'frequency', ascending = False, inplace = True)\n",
    "    \n",
    "    return ngram_df"
   ]
  },
  {
   "cell_type": "markdown",
   "metadata": {},
   "source": [
    "Create a function to produce the ngram frequencies and charts."
   ]
  },
  {
   "cell_type": "code",
   "execution_count": null,
   "metadata": {},
   "outputs": [],
   "source": [
    "def create_ngram(df, ngram, rating, service):\n",
    "    \"\"\"Subset the data and produce the word frequency barchart\"\"\"\n",
    "    \n",
    "    if rating and service:\n",
    "        if ngram == 1:\n",
    "            comments = df.query('student_rating == @rating and service == @service').student_comment_nopunct_nostopwords\n",
    "        else:\n",
    "            comments = df.query('student_rating == @rating and service == @service').student_comment_nopunct\n",
    "    elif rating and not service:\n",
    "        if ngram == 1:\n",
    "            comments = df.query('student_rating == @rating').student_comment_nopunct_nostopwords\n",
    "        else:\n",
    "            comments = df.query('student_rating == @rating').student_comment_nopunct\n",
    "    elif not rating and service:\n",
    "        if ngram == 1:\n",
    "            comments = df.query('service == @service').student_comment_nopunct_nostopwords\n",
    "        else:\n",
    "            comments = df.query('service == @service').student_comment_nopunct\n",
    "    else:\n",
    "        if ngram == 1:\n",
    "            comments = df.student_comment_nopunct_nostopwords\n",
    "        else:\n",
    "            comments = df.student_comment_nopunct\n",
    "        \n",
    "    ngram_freq = create_ngram_dict(comments, ngram)\n",
    "    wordcloud.generate_from_frequencies(ngram_freq)\n",
    "    wordcloud.to_image()\n",
    "\n",
    "    ngram_df = ddict_to_df(ngram_freq)\n",
    "    \n",
    "    def map_string(ngram):\n",
    "        result = None\n",
    "        if ngram == 1:\n",
    "            return 'Unigram'\n",
    "        elif ngram == 2:\n",
    "            return 'Bigram'\n",
    "        elif ngram == 3:\n",
    "            return 'Trigram'\n",
    "        elif ngram == 4:\n",
    "            return 'Four-gram'\n",
    "        return result\n",
    "    \n",
    "    title = f'{map_string(ngram)} Rating: {rating} {service}'\n",
    "    ax = sns.barplot(x='frequency', y='word', data=ngram_df.head(10))\n",
    "    ax.set_title(title)\n",
    "    plt.show()"
   ]
  },
  {
   "cell_type": "markdown",
   "metadata": {},
   "source": [
    "The following section loops through:\n",
    "- ngrams 1-3\n",
    "- rating 1-5\n",
    "- service CL and WF"
   ]
  },
  {
   "cell_type": "markdown",
   "metadata": {},
   "source": [
    "## Unigrams"
   ]
  },
  {
   "cell_type": "code",
   "execution_count": null,
   "metadata": {},
   "outputs": [],
   "source": [
    "ngram = 1\n",
    "\n",
    "for rating, service in product(range(1, 6), ('CL', 'WF')):\n",
    "    create_ngram(df = data_df_comments, ngram = ngram, rating = rating, service = service)"
   ]
  },
  {
   "cell_type": "markdown",
   "metadata": {},
   "source": [
    "## Bigrams"
   ]
  },
  {
   "cell_type": "code",
   "execution_count": null,
   "metadata": {},
   "outputs": [],
   "source": [
    "ngram = 2\n",
    "\n",
    "for rating, service in product(range(1, 6), ('CL', 'WF')):\n",
    "    create_ngram(df = data_df_comments, ngram = ngram, rating = rating, service = service)"
   ]
  },
  {
   "cell_type": "markdown",
   "metadata": {},
   "source": [
    "## Trigrams"
   ]
  },
  {
   "cell_type": "code",
   "execution_count": null,
   "metadata": {},
   "outputs": [],
   "source": [
    "ngram = 3\n",
    "\n",
    "for rating, service in product(range(1, 6), ('CL', 'WF')):\n",
    "    create_ngram(df = data_df_comments, ngram = ngram, rating = rating, service = service)"
   ]
  },
  {
   "cell_type": "markdown",
   "metadata": {},
   "source": [
    "## Four-grams"
   ]
  },
  {
   "cell_type": "code",
   "execution_count": null,
   "metadata": {},
   "outputs": [],
   "source": [
    "ngram = 4\n",
    "\n",
    "for rating, service in product(range(1, 6), ('CL', 'WF')):\n",
    "    create_ngram(df = data_df_comments, ngram = ngram, rating = rating, service = service)"
   ]
  },
  {
   "cell_type": "markdown",
   "metadata": {},
   "source": [
    "## Intents by Sentiment"
   ]
  },
  {
   "cell_type": "code",
   "execution_count": null,
   "metadata": {},
   "outputs": [],
   "source": [
    "second_dimension = 'sentiment_aggregated'\n",
    "value = 0\n",
    "operator = '<='\n",
    "op_dict = {'==': 'is'\n",
    "           ,'<': 'is less than'\n",
    "           ,'>': 'is greater than'\n",
    "           ,'<=': 'is less than or equal to'\n",
    "           ,'>=': 'is greater than or equal to'\n",
    "          }\n",
    "\n",
    "title = f'Count of Intents (excl NONE): {second_dimension.title()} {op_dict[operator]} {value}'\n",
    "x_label = 'Count'\n",
    "y_label = 'Intent'\n",
    "\n",
    "data = df.query(f'luis_intent_pickle != \"None\" and {second_dimension} {operator} @value')['luis_intent_pickle']\n",
    "\n",
    "ax = sns.countplot(y=data\n",
    "                   ,order = order_intent_full\n",
    "                  )\n",
    "\n",
    "ax.set(xlabel=x_label\n",
    "       ,ylabel=y_label\n",
    "       ,title=title)"
   ]
  },
  {
   "cell_type": "code",
   "execution_count": null,
   "metadata": {},
   "outputs": [],
   "source": [
    "second_dimension = 'sentiment_aggregated'\n",
    "value = 0\n",
    "operator = '>'\n",
    "op_dict = {'==': 'is'\n",
    "           ,'<': 'is less than'\n",
    "           ,'>': 'is greater than'\n",
    "           ,'<=': 'is less than or equal to'\n",
    "           ,'>=': 'is greater than or equal to'\n",
    "          }\n",
    "\n",
    "title = f'Count of Intents (excl NONE): {second_dimension.title()} {op_dict[operator]} {value}'\n",
    "x_label = 'Count'\n",
    "y_label = 'Intent'\n",
    "\n",
    "data = df.query(f'luis_intent_pickle != \"None\" and {second_dimension} {operator} @value')['luis_intent_pickle']\n",
    "\n",
    "ax = sns.countplot(y=data\n",
    "                   ,order = order_intent_full\n",
    "                  )\n",
    "\n",
    "ax.set(xlabel=x_label\n",
    "       ,ylabel=y_label\n",
    "       ,title=title)"
   ]
  },
  {
   "cell_type": "code",
   "execution_count": null,
   "metadata": {},
   "outputs": [],
   "source": [
    "filepath = report_dir.joinpath('aggregated_sentiment_rating_vs_servqual.csv')\n",
    "aggregated_sentiment_df.to_csv(filepath)"
   ]
  },
  {
   "cell_type": "markdown",
   "metadata": {},
   "source": [
    "# Correlations"
   ]
  },
  {
   "cell_type": "code",
   "execution_count": null,
   "metadata": {},
   "outputs": [],
   "source": [
    "# Reorder the columns so that 'student_rating_numeric' is the first.\n",
    "columns = (\n",
    "    ['student_rating_numeric'] \n",
    "    + [col for col in df.columns if col != 'student_rating_numeric']\n",
    ")"
   ]
  },
  {
   "cell_type": "code",
   "execution_count": null,
   "metadata": {},
   "outputs": [],
   "source": [
    "corr_df = df.loc[:, columns].corr()"
   ]
  },
  {
   "cell_type": "code",
   "execution_count": null,
   "metadata": {},
   "outputs": [],
   "source": [
    "f = plt.figure(figsize=(19, 15))\n",
    "sns.heatmap(corr_df)\n",
    "\n",
    "title = \"Correlations\"\n",
    "filename = title + '.png'\n",
    "\n",
    "plt.title(title)\n",
    "plt.savefig(image_dir.joinpath(filename))"
   ]
  },
  {
   "cell_type": "code",
   "execution_count": null,
   "metadata": {},
   "outputs": [],
   "source": [
    "# Enumerate the column names\n",
    "f = plt.figure(figsize=(19, 15))\n",
    "\n",
    "enumerated_columns = range(len(corr_df.index))\n",
    "\n",
    "sns.heatmap(\n",
    "    corr_df,\n",
    "    xticklabels=enumerated_columns,\n",
    "    yticklabels=enumerated_columns,\n",
    ")\n",
    "\n",
    "title = \"Correlations\"\n",
    "filename = title + '_unlabeled.png'\n",
    "\n",
    "plt.title(title)\n",
    "plt.savefig(image_dir.joinpath(filename))"
   ]
  },
  {
   "cell_type": "markdown",
   "metadata": {},
   "source": [
    "## Categorical"
   ]
  },
  {
   "cell_type": "code",
   "execution_count": null,
   "metadata": {},
   "outputs": [],
   "source": [
    "def cramers_v(x, y):\n",
    "    confusion_matrix = pd.crosstab(x,y)\n",
    "    chi2 = ss.chi2_contingency(confusion_matrix)[0]\n",
    "    n = confusion_matrix.sum().sum()\n",
    "    phi2 = chi2/n\n",
    "    r,k = confusion_matrix.shape\n",
    "    phi2corr = max(0, phi2-((k-1)*(r-1))/(n-1))\n",
    "    rcorr = r-((r-1)**2)/(n-1)\n",
    "    kcorr = k-((k-1)**2)/(n-1)\n",
    "    return np.sqrt(phi2corr/min((kcorr-1),(rcorr-1)))"
   ]
  },
  {
   "cell_type": "code",
   "execution_count": null,
   "metadata": {},
   "outputs": [],
   "source": []
  },
  {
   "cell_type": "code",
   "execution_count": null,
   "metadata": {},
   "outputs": [],
   "source": [
    "import importlib\n",
    "importlib.reload(utils)"
   ]
  }
 ],
 "metadata": {
  "kernelspec": {
   "display_name": "Python 3",
   "language": "python",
   "name": "python3"
  },
  "language_info": {
   "codemirror_mode": {
    "name": "ipython",
    "version": 3
   },
   "file_extension": ".py",
   "mimetype": "text/x-python",
   "name": "python",
   "nbconvert_exporter": "python",
   "pygments_lexer": "ipython3",
   "version": "3.7.3"
  }
 },
 "nbformat": 4,
 "nbformat_minor": 4
}
