{
 "cells": [
  {
   "cell_type": "markdown",
   "metadata": {},
   "source": [
    "# Aggregating Sentiment Score Results from `TextBlob`, `VADER` and LUIS.ai"
   ]
  },
  {
   "cell_type": "code",
   "execution_count": 66,
   "metadata": {},
   "outputs": [],
   "source": [
    "import pandas as pd\n",
    "import pickle\n",
    "from pathlib import Path\n",
    "import process_luis_response\n",
    "import numpy as np\n",
    "\n",
    "from UTILS import utils\n",
    "from UTILS import feature_extraction"
   ]
  },
  {
   "cell_type": "code",
   "execution_count": 80,
   "metadata": {},
   "outputs": [],
   "source": [
    "data_dir = Path.cwd().joinpath('OUTPUT')\n",
    "column_dir = data_dir.joinpath('COLUMNS')"
   ]
  },
  {
   "cell_type": "code",
   "execution_count": 55,
   "metadata": {},
   "outputs": [],
   "source": [
    "relevant_columns = ['student_comment_apostrophe',\n",
    "                    'student_rating',\n",
    "                    'sentiment_textblob',\n",
    "                    'sentiment_nltk',\n",
    "                    'sentiment_luis']\n",
    "pd.set_option('display.max_colwidth', 1000)"
   ]
  },
  {
   "cell_type": "code",
   "execution_count": 33,
   "metadata": {},
   "outputs": [],
   "source": [
    "data_name = 'data_df_comments'\n",
    "with open(data_dir.joinpath(data_name), 'rb') as infile:\n",
    "    df = pickle.load(infile)"
   ]
  },
  {
   "cell_type": "markdown",
   "metadata": {},
   "source": [
    "# Adding the LUIS.ai Sentiment Scores"
   ]
  },
  {
   "cell_type": "code",
   "execution_count": 39,
   "metadata": {},
   "outputs": [],
   "source": [
    "sentiment_luis_name = 'sentiment_luis'\n",
    "with open (data_dir.joinpath('COLUMNS').joinpath(sentiment_luis_name), 'rb') as infile:\n",
    "    sentiment_luis = pickle.load(infile)"
   ]
  },
  {
   "cell_type": "code",
   "execution_count": 40,
   "metadata": {},
   "outputs": [
    {
     "data": {
      "text/plain": [
       "index\n",
       "17    0.998530\n",
       "26    0.929806\n",
       "27   -0.022393\n",
       "30   -0.269620\n",
       "40    0.963414\n",
       "Name: response, dtype: float64"
      ]
     },
     "execution_count": 40,
     "metadata": {},
     "output_type": "execute_result"
    }
   ],
   "source": [
    "sentiment_luis[:5]"
   ]
  },
  {
   "cell_type": "code",
   "execution_count": 41,
   "metadata": {},
   "outputs": [],
   "source": [
    "sentiment_luis.name = 'sentiment_luis'"
   ]
  },
  {
   "cell_type": "code",
   "execution_count": 42,
   "metadata": {},
   "outputs": [],
   "source": [
    "df = df.join(sentiment_luis, how='left')"
   ]
  },
  {
   "cell_type": "code",
   "execution_count": 44,
   "metadata": {},
   "outputs": [],
   "source": [
    "# Unpacking the 'compound' element of the sentiment_nltk, because the return type is a json\n",
    "df['sentiment_nltk'] = df.sentiment_nltk.apply(lambda x: x['compound'])"
   ]
  },
  {
   "cell_type": "markdown",
   "metadata": {},
   "source": [
    "# Adding the LUIS.ai Intents"
   ]
  },
  {
   "cell_type": "code",
   "execution_count": 47,
   "metadata": {},
   "outputs": [],
   "source": [
    "intent_luis_name = 'luis_intent_pickle'\n",
    "with open (data_dir.joinpath(intent_luis_name), 'rb') as infile:\n",
    "    intent_luis = pickle.load(infile)"
   ]
  },
  {
   "cell_type": "code",
   "execution_count": 48,
   "metadata": {},
   "outputs": [],
   "source": [
    "intent_luis.name = 'intent_luis'"
   ]
  },
  {
   "cell_type": "code",
   "execution_count": 49,
   "metadata": {},
   "outputs": [],
   "source": [
    "df = df.join(intent_luis, how='left')"
   ]
  },
  {
   "cell_type": "markdown",
   "metadata": {},
   "source": [
    "# Aggregation"
   ]
  },
  {
   "cell_type": "markdown",
   "metadata": {},
   "source": [
    "The idea of aggregation is to mitigate the adverse effect of one package not high inaccurate scores. The aggregation algorithm is simply:\n",
    "1. ignore the score that is the odd one out based on distance\n",
    "2. take the mean of the remaining scores\n",
    "\n",
    "For example, in index `27`, the scores for `TextBlob`, `NLTK`, and LUIS.ai are 0.008333, 0.4411 and -0.022393 respectively. \n",
    "\n",
    "- The difference between the high and the middle score is 0.4411 - 0.008333 = 0.432767\n",
    "- The difference between the middle and the low score is 0.008333 - (-0.02239) = 0.0.30727\n",
    "\n",
    "The low and middle scores are closer to each other than are the middle and the high score. In this case the value to be averaged is the low and the middle score, leading to a final sentiment value of (0.008333 + 0.02239) / 2 = -0.007, which is very similar to the neutral score rating of 3."
   ]
  },
  {
   "cell_type": "code",
   "execution_count": 56,
   "metadata": {},
   "outputs": [
    {
     "name": "stdout",
     "output_type": "stream",
     "text": [
      "sentiment_textblob    0.00833333\n",
      "sentiment_nltk            0.4411\n",
      "sentiment_luis        -0.0223935\n",
      "Name: 27, dtype: object\n"
     ]
    }
   ],
   "source": [
    "sentiments = df[relevant_columns].loc[27, 'sentiment_textblob':'sentiment_luis']\n",
    "print(sentiments)"
   ]
  },
  {
   "cell_type": "code",
   "execution_count": 57,
   "metadata": {},
   "outputs": [
    {
     "data": {
      "text/plain": [
       "[-0.0223934948, 0.008333333333333338, 0.4411]"
      ]
     },
     "execution_count": 57,
     "metadata": {},
     "output_type": "execute_result"
    }
   ],
   "source": [
    "sorted(sentiments)"
   ]
  },
  {
   "cell_type": "markdown",
   "metadata": {},
   "source": [
    "# Aggregating the Sentiment Scores"
   ]
  },
  {
   "cell_type": "code",
   "execution_count": 21,
   "metadata": {},
   "outputs": [],
   "source": [
    "def aggregate_sentiments(row):\n",
    "    \"\"\"Take the average of the two closest values\"\"\"\n",
    "    sentiment_list = sorted(row[['sentiment_textblob', 'sentiment_nltk', 'sentiment_luis']])\n",
    "    if any(np.isnan(sentiment_list)):\n",
    "        result = np.nanmean(sentiment_list)\n",
    "    elif sentiment_list[1] - sentiment_list[0] < sentiment_list[2] - sentiment_list[1]:\n",
    "        result = np.nanmean(sentiment_list[:2])\n",
    "    else:\n",
    "        result = np.nanmean(sentiment_list[1:])\n",
    "    return result"
   ]
  },
  {
   "cell_type": "code",
   "execution_count": 67,
   "metadata": {},
   "outputs": [],
   "source": [
    "df['sentiment_aggregated'] = df.apply(feature_extraction.naive_aggregate_sentiments, axis = 'columns')"
   ]
  },
  {
   "cell_type": "markdown",
   "metadata": {},
   "source": [
    "# High Student Ratings, Low `TextBlob` Sentiment Scores"
   ]
  },
  {
   "cell_type": "markdown",
   "metadata": {},
   "source": [
    "Looking at the same five comments as those initially investigated in [Validating Out of the Box Algorithms (Sentiment Analysis)](https://rpubs.com/RRoger_Yu/Validating_Out_of_the_Box_Algorithms_Sentiment_Analysis):"
   ]
  },
  {
   "cell_type": "code",
   "execution_count": 24,
   "metadata": {},
   "outputs": [
    {
     "data": {
      "text/html": [
       "<div>\n",
       "<style scoped>\n",
       "    .dataframe tbody tr th:only-of-type {\n",
       "        vertical-align: middle;\n",
       "    }\n",
       "\n",
       "    .dataframe tbody tr th {\n",
       "        vertical-align: top;\n",
       "    }\n",
       "\n",
       "    .dataframe thead th {\n",
       "        text-align: right;\n",
       "    }\n",
       "</style>\n",
       "<table border=\"1\" class=\"dataframe\">\n",
       "  <thead>\n",
       "    <tr style=\"text-align: right;\">\n",
       "      <th></th>\n",
       "      <th>student_comment_apostrophe</th>\n",
       "      <th>student_rating</th>\n",
       "      <th>sentiment_textblob</th>\n",
       "      <th>sentiment_nltk</th>\n",
       "      <th>sentiment_luis</th>\n",
       "      <th>sentiment_aggregated</th>\n",
       "    </tr>\n",
       "  </thead>\n",
       "  <tbody>\n",
       "    <tr>\n",
       "      <th>31715</th>\n",
       "      <td>yo simon is an mk, real shit maddest dog ive ever met</td>\n",
       "      <td>5.0</td>\n",
       "      <td>-0.3</td>\n",
       "      <td>-0.8126</td>\n",
       "      <td>-0.142343</td>\n",
       "      <td>-0.221171</td>\n",
       "    </tr>\n",
       "    <tr>\n",
       "      <th>47396</th>\n",
       "      <td>yeah not the tutors fault but the website was really slow i had to refresh a couple of times.</td>\n",
       "      <td>5.0</td>\n",
       "      <td>-0.3</td>\n",
       "      <td>0.3025</td>\n",
       "      <td>-0.063081</td>\n",
       "      <td>-0.181540</td>\n",
       "    </tr>\n",
       "    <tr>\n",
       "      <th>71394</th>\n",
       "      <td>I thought the interaction between both of us was a bit slow, it took a while to load and send through messages.</td>\n",
       "      <td>5.0</td>\n",
       "      <td>-0.3</td>\n",
       "      <td>0.0000</td>\n",
       "      <td>-0.195103</td>\n",
       "      <td>-0.247551</td>\n",
       "    </tr>\n",
       "    <tr>\n",
       "      <th>32063</th>\n",
       "      <td>The connection was slow and the photo I submitted went distorted after I submitted it.</td>\n",
       "      <td>5.0</td>\n",
       "      <td>-0.3</td>\n",
       "      <td>-0.4019</td>\n",
       "      <td>-0.033585</td>\n",
       "      <td>-0.350950</td>\n",
       "    </tr>\n",
       "    <tr>\n",
       "      <th>19418</th>\n",
       "      <td>Helped me slowly work through it</td>\n",
       "      <td>5.0</td>\n",
       "      <td>-0.3</td>\n",
       "      <td>0.0000</td>\n",
       "      <td>-0.082189</td>\n",
       "      <td>-0.041095</td>\n",
       "    </tr>\n",
       "  </tbody>\n",
       "</table>\n",
       "</div>"
      ],
      "text/plain": [
       "                                                                                            student_comment_apostrophe  \\\n",
       "31715                                                            yo simon is an mk, real shit maddest dog ive ever met   \n",
       "47396                   yeah not the tutors fault but the website was really slow i had to refresh a couple of times.    \n",
       "71394  I thought the interaction between both of us was a bit slow, it took a while to load and send through messages.   \n",
       "32063                           The connection was slow and the photo I submitted went distorted after I submitted it.   \n",
       "19418                                                                                 Helped me slowly work through it   \n",
       "\n",
       "      student_rating  sentiment_textblob  sentiment_nltk  sentiment_luis  \\\n",
       "31715            5.0                -0.3         -0.8126       -0.142343   \n",
       "47396            5.0                -0.3          0.3025       -0.063081   \n",
       "71394            5.0                -0.3          0.0000       -0.195103   \n",
       "32063            5.0                -0.3         -0.4019       -0.033585   \n",
       "19418            5.0                -0.3          0.0000       -0.082189   \n",
       "\n",
       "       sentiment_aggregated  \n",
       "31715             -0.221171  \n",
       "47396             -0.181540  \n",
       "71394             -0.247551  \n",
       "32063             -0.350950  \n",
       "19418             -0.041095  "
      ]
     },
     "execution_count": 24,
     "metadata": {},
     "output_type": "execute_result"
    }
   ],
   "source": [
    "df[relevant_columns + ['sentiment_aggregated']].loc[[31715, 47396, 71394, 32063, 19418]]"
   ]
  },
  {
   "cell_type": "markdown",
   "metadata": {},
   "source": [
    "The aggregation doesn't seem to have improved the scores."
   ]
  },
  {
   "cell_type": "markdown",
   "metadata": {},
   "source": [
    "# Low Student Ratings, High `TextBlob` Sentiment Scores"
   ]
  },
  {
   "cell_type": "markdown",
   "metadata": {},
   "source": [
    "Looking at the same five comments as those initially investigated in [Validating Out of the Box Algorithms (Sentiment Analysis)](https://rpubs.com/RRoger_Yu/Validating_Out_of_the_Box_Algorithms_Sentiment_Analysis):"
   ]
  },
  {
   "cell_type": "code",
   "execution_count": 25,
   "metadata": {},
   "outputs": [
    {
     "data": {
      "text/html": [
       "<div>\n",
       "<style scoped>\n",
       "    .dataframe tbody tr th:only-of-type {\n",
       "        vertical-align: middle;\n",
       "    }\n",
       "\n",
       "    .dataframe tbody tr th {\n",
       "        vertical-align: top;\n",
       "    }\n",
       "\n",
       "    .dataframe thead th {\n",
       "        text-align: right;\n",
       "    }\n",
       "</style>\n",
       "<table border=\"1\" class=\"dataframe\">\n",
       "  <thead>\n",
       "    <tr style=\"text-align: right;\">\n",
       "      <th></th>\n",
       "      <th>student_comment_apostrophe</th>\n",
       "      <th>student_rating</th>\n",
       "      <th>sentiment_textblob</th>\n",
       "      <th>sentiment_nltk</th>\n",
       "      <th>sentiment_luis</th>\n",
       "      <th>sentiment_aggregated</th>\n",
       "    </tr>\n",
       "  </thead>\n",
       "  <tbody>\n",
       "    <tr>\n",
       "      <th>78189</th>\n",
       "      <td>best tutor in client</td>\n",
       "      <td>1.0</td>\n",
       "      <td>1.0</td>\n",
       "      <td>0.6369</td>\n",
       "      <td>0.994721</td>\n",
       "      <td>0.997360</td>\n",
       "    </tr>\n",
       "    <tr>\n",
       "      <th>29136</th>\n",
       "      <td>Very happy with the service, and got all the answers I needed</td>\n",
       "      <td>1.0</td>\n",
       "      <td>1.0</td>\n",
       "      <td>0.6115</td>\n",
       "      <td>0.845618</td>\n",
       "      <td>0.922809</td>\n",
       "    </tr>\n",
       "    <tr>\n",
       "      <th>79281</th>\n",
       "      <td>Perfect</td>\n",
       "      <td>1.0</td>\n",
       "      <td>1.0</td>\n",
       "      <td>0.5719</td>\n",
       "      <td>0.965229</td>\n",
       "      <td>0.982615</td>\n",
       "    </tr>\n",
       "    <tr>\n",
       "      <th>47031</th>\n",
       "      <td>Corey was great!</td>\n",
       "      <td>1.0</td>\n",
       "      <td>1.0</td>\n",
       "      <td>0.6588</td>\n",
       "      <td>0.988572</td>\n",
       "      <td>0.994286</td>\n",
       "    </tr>\n",
       "    <tr>\n",
       "      <th>36957</th>\n",
       "      <td>Not the greatest service this time</td>\n",
       "      <td>1.0</td>\n",
       "      <td>1.0</td>\n",
       "      <td>-0.5216</td>\n",
       "      <td>0.752059</td>\n",
       "      <td>0.876030</td>\n",
       "    </tr>\n",
       "  </tbody>\n",
       "</table>\n",
       "</div>"
      ],
      "text/plain": [
       "                                           student_comment_apostrophe  \\\n",
       "78189                                        best tutor in client   \n",
       "29136  Very happy with the service, and got all the answers I needed    \n",
       "79281                                                         Perfect   \n",
       "47031                                                Corey was great!   \n",
       "36957                            Not the greatest service this time     \n",
       "\n",
       "      student_rating  sentiment_textblob  sentiment_nltk  sentiment_luis  \\\n",
       "78189            1.0                 1.0          0.6369        0.994721   \n",
       "29136            1.0                 1.0          0.6115        0.845618   \n",
       "79281            1.0                 1.0          0.5719        0.965229   \n",
       "47031            1.0                 1.0          0.6588        0.988572   \n",
       "36957            1.0                 1.0         -0.5216        0.752059   \n",
       "\n",
       "       sentiment_aggregated  \n",
       "78189              0.997360  \n",
       "29136              0.922809  \n",
       "79281              0.982615  \n",
       "47031              0.994286  \n",
       "36957              0.876030  "
      ]
     },
     "execution_count": 25,
     "metadata": {},
     "output_type": "execute_result"
    }
   ],
   "source": [
    "df[relevant_columns + ['sentiment_aggregated']].loc[[78189, 29136, 79281, 47031, 36957]]"
   ]
  },
  {
   "cell_type": "markdown",
   "metadata": {},
   "source": [
    "LUIS.ai also incorrectly scores \"Not the greatest service this time\" as a very high 0.75. The result is still a high 0.88.\n",
    "\n",
    "Let's look at other such cases to see if the aggregation has helped to mitigate some cases."
   ]
  },
  {
   "cell_type": "markdown",
   "metadata": {},
   "source": [
    "# Low `sentiment_nltk` and high `sentiment_aggregated` and high `student_rating`"
   ]
  },
  {
   "cell_type": "code",
   "execution_count": null,
   "metadata": {},
   "outputs": [],
   "source": [
    "query = 'sentiment_nltk < 0 and student_rating > 3'\n",
    "df[relevant_columns + ['sentiment_aggregated'] + ['intent_luis']].query(query)"
   ]
  },
  {
   "cell_type": "markdown",
   "metadata": {},
   "source": [
    "# High `sentiment_nltk` and low `student_rating`"
   ]
  },
  {
   "cell_type": "code",
   "execution_count": 62,
   "metadata": {
    "collapsed": true,
    "jupyter": {
     "outputs_hidden": true
    }
   },
   "outputs": [
    {
     "ename": "KeyError",
     "evalue": "\"['sentiment_aggregated'] not in index\"",
     "output_type": "error",
     "traceback": [
      "\u001b[1;31m---------------------------------------------------------------------------\u001b[0m",
      "\u001b[1;31mKeyError\u001b[0m                                  Traceback (most recent call last)",
      "\u001b[1;32m<ipython-input-62-328c06098d98>\u001b[0m in \u001b[0;36m<module>\u001b[1;34m\u001b[0m\n\u001b[0;32m      1\u001b[0m \u001b[0mquery\u001b[0m \u001b[1;33m=\u001b[0m \u001b[1;34m'sentiment_nltk > 0 and student_rating < 3'\u001b[0m\u001b[1;33m\u001b[0m\u001b[1;33m\u001b[0m\u001b[0m\n\u001b[1;32m----> 2\u001b[1;33m \u001b[0mdf\u001b[0m\u001b[1;33m[\u001b[0m\u001b[0mrelevant_columns\u001b[0m \u001b[1;33m+\u001b[0m \u001b[1;33m[\u001b[0m\u001b[1;34m'sentiment_aggregated'\u001b[0m\u001b[1;33m]\u001b[0m \u001b[1;33m+\u001b[0m \u001b[1;33m[\u001b[0m\u001b[1;34m'intent_luis'\u001b[0m\u001b[1;33m]\u001b[0m\u001b[1;33m]\u001b[0m\u001b[1;33m.\u001b[0m\u001b[0mquery\u001b[0m\u001b[1;33m(\u001b[0m\u001b[0mquery\u001b[0m\u001b[1;33m)\u001b[0m\u001b[1;33m\u001b[0m\u001b[1;33m\u001b[0m\u001b[0m\n\u001b[0m",
      "\u001b[1;32mD:\\Anaconda3\\envs\\client\\lib\\site-packages\\pandas\\core\\frame.py\u001b[0m in \u001b[0;36m__getitem__\u001b[1;34m(self, key)\u001b[0m\n\u001b[0;32m   2932\u001b[0m                 \u001b[0mkey\u001b[0m \u001b[1;33m=\u001b[0m \u001b[0mlist\u001b[0m\u001b[1;33m(\u001b[0m\u001b[0mkey\u001b[0m\u001b[1;33m)\u001b[0m\u001b[1;33m\u001b[0m\u001b[1;33m\u001b[0m\u001b[0m\n\u001b[0;32m   2933\u001b[0m             indexer = self.loc._convert_to_indexer(key, axis=1,\n\u001b[1;32m-> 2934\u001b[1;33m                                                    raise_missing=True)\n\u001b[0m\u001b[0;32m   2935\u001b[0m \u001b[1;33m\u001b[0m\u001b[0m\n\u001b[0;32m   2936\u001b[0m         \u001b[1;31m# take() does not accept boolean indexers\u001b[0m\u001b[1;33m\u001b[0m\u001b[1;33m\u001b[0m\u001b[1;33m\u001b[0m\u001b[0m\n",
      "\u001b[1;32mD:\\Anaconda3\\envs\\client\\lib\\site-packages\\pandas\\core\\indexing.py\u001b[0m in \u001b[0;36m_convert_to_indexer\u001b[1;34m(self, obj, axis, is_setter, raise_missing)\u001b[0m\n\u001b[0;32m   1352\u001b[0m                 kwargs = {'raise_missing': True if is_setter else\n\u001b[0;32m   1353\u001b[0m                           raise_missing}\n\u001b[1;32m-> 1354\u001b[1;33m                 \u001b[1;32mreturn\u001b[0m \u001b[0mself\u001b[0m\u001b[1;33m.\u001b[0m\u001b[0m_get_listlike_indexer\u001b[0m\u001b[1;33m(\u001b[0m\u001b[0mobj\u001b[0m\u001b[1;33m,\u001b[0m \u001b[0maxis\u001b[0m\u001b[1;33m,\u001b[0m \u001b[1;33m**\u001b[0m\u001b[0mkwargs\u001b[0m\u001b[1;33m)\u001b[0m\u001b[1;33m[\u001b[0m\u001b[1;36m1\u001b[0m\u001b[1;33m]\u001b[0m\u001b[1;33m\u001b[0m\u001b[1;33m\u001b[0m\u001b[0m\n\u001b[0m\u001b[0;32m   1355\u001b[0m         \u001b[1;32melse\u001b[0m\u001b[1;33m:\u001b[0m\u001b[1;33m\u001b[0m\u001b[1;33m\u001b[0m\u001b[0m\n\u001b[0;32m   1356\u001b[0m             \u001b[1;32mtry\u001b[0m\u001b[1;33m:\u001b[0m\u001b[1;33m\u001b[0m\u001b[1;33m\u001b[0m\u001b[0m\n",
      "\u001b[1;32mD:\\Anaconda3\\envs\\client\\lib\\site-packages\\pandas\\core\\indexing.py\u001b[0m in \u001b[0;36m_get_listlike_indexer\u001b[1;34m(self, key, axis, raise_missing)\u001b[0m\n\u001b[0;32m   1159\u001b[0m         self._validate_read_indexer(keyarr, indexer,\n\u001b[0;32m   1160\u001b[0m                                     \u001b[0mo\u001b[0m\u001b[1;33m.\u001b[0m\u001b[0m_get_axis_number\u001b[0m\u001b[1;33m(\u001b[0m\u001b[0maxis\u001b[0m\u001b[1;33m)\u001b[0m\u001b[1;33m,\u001b[0m\u001b[1;33m\u001b[0m\u001b[1;33m\u001b[0m\u001b[0m\n\u001b[1;32m-> 1161\u001b[1;33m                                     raise_missing=raise_missing)\n\u001b[0m\u001b[0;32m   1162\u001b[0m         \u001b[1;32mreturn\u001b[0m \u001b[0mkeyarr\u001b[0m\u001b[1;33m,\u001b[0m \u001b[0mindexer\u001b[0m\u001b[1;33m\u001b[0m\u001b[1;33m\u001b[0m\u001b[0m\n\u001b[0;32m   1163\u001b[0m \u001b[1;33m\u001b[0m\u001b[0m\n",
      "\u001b[1;32mD:\\Anaconda3\\envs\\client\\lib\\site-packages\\pandas\\core\\indexing.py\u001b[0m in \u001b[0;36m_validate_read_indexer\u001b[1;34m(self, key, indexer, axis, raise_missing)\u001b[0m\n\u001b[0;32m   1250\u001b[0m             \u001b[1;32mif\u001b[0m \u001b[1;32mnot\u001b[0m\u001b[1;33m(\u001b[0m\u001b[0mself\u001b[0m\u001b[1;33m.\u001b[0m\u001b[0mname\u001b[0m \u001b[1;33m==\u001b[0m \u001b[1;34m'loc'\u001b[0m \u001b[1;32mand\u001b[0m \u001b[1;32mnot\u001b[0m \u001b[0mraise_missing\u001b[0m\u001b[1;33m)\u001b[0m\u001b[1;33m:\u001b[0m\u001b[1;33m\u001b[0m\u001b[1;33m\u001b[0m\u001b[0m\n\u001b[0;32m   1251\u001b[0m                 \u001b[0mnot_found\u001b[0m \u001b[1;33m=\u001b[0m \u001b[0mlist\u001b[0m\u001b[1;33m(\u001b[0m\u001b[0mset\u001b[0m\u001b[1;33m(\u001b[0m\u001b[0mkey\u001b[0m\u001b[1;33m)\u001b[0m \u001b[1;33m-\u001b[0m \u001b[0mset\u001b[0m\u001b[1;33m(\u001b[0m\u001b[0max\u001b[0m\u001b[1;33m)\u001b[0m\u001b[1;33m)\u001b[0m\u001b[1;33m\u001b[0m\u001b[1;33m\u001b[0m\u001b[0m\n\u001b[1;32m-> 1252\u001b[1;33m                 \u001b[1;32mraise\u001b[0m \u001b[0mKeyError\u001b[0m\u001b[1;33m(\u001b[0m\u001b[1;34m\"{} not in index\"\u001b[0m\u001b[1;33m.\u001b[0m\u001b[0mformat\u001b[0m\u001b[1;33m(\u001b[0m\u001b[0mnot_found\u001b[0m\u001b[1;33m)\u001b[0m\u001b[1;33m)\u001b[0m\u001b[1;33m\u001b[0m\u001b[1;33m\u001b[0m\u001b[0m\n\u001b[0m\u001b[0;32m   1253\u001b[0m \u001b[1;33m\u001b[0m\u001b[0m\n\u001b[0;32m   1254\u001b[0m             \u001b[1;31m# we skip the warning on Categorical/Interval\u001b[0m\u001b[1;33m\u001b[0m\u001b[1;33m\u001b[0m\u001b[1;33m\u001b[0m\u001b[0m\n",
      "\u001b[1;31mKeyError\u001b[0m: \"['sentiment_aggregated'] not in index\""
     ]
    }
   ],
   "source": [
    "query = 'sentiment_nltk > 0 and student_rating < 3'\n",
    "df[relevant_columns + ['sentiment_aggregated'] + ['intent_luis']].query(query)"
   ]
  },
  {
   "cell_type": "markdown",
   "metadata": {},
   "source": [
    "# Fixing the rating on `PRESSED_WRONG_BUTTON`"
   ]
  },
  {
   "cell_type": "code",
   "execution_count": 75,
   "metadata": {},
   "outputs": [
    {
     "data": {
      "text/html": [
       "<div>\n",
       "<style scoped>\n",
       "    .dataframe tbody tr th:only-of-type {\n",
       "        vertical-align: middle;\n",
       "    }\n",
       "\n",
       "    .dataframe tbody tr th {\n",
       "        vertical-align: top;\n",
       "    }\n",
       "\n",
       "    .dataframe thead th {\n",
       "        text-align: right;\n",
       "    }\n",
       "</style>\n",
       "<table border=\"1\" class=\"dataframe\">\n",
       "  <thead>\n",
       "    <tr style=\"text-align: right;\">\n",
       "      <th></th>\n",
       "      <th>student_rating</th>\n",
       "      <th>student_comment</th>\n",
       "    </tr>\n",
       "  </thead>\n",
       "  <tbody>\n",
       "    <tr>\n",
       "      <th>33676</th>\n",
       "      <td>1.0</td>\n",
       "      <td>it was really nice. thankyou. by mistake i clicked not satisfied button</td>\n",
       "    </tr>\n",
       "    <tr>\n",
       "      <th>115493</th>\n",
       "      <td>1.0</td>\n",
       "      <td>Sorry, I pressed wrong button. Im extremely happy. Thank you very much.</td>\n",
       "    </tr>\n",
       "    <tr>\n",
       "      <th>139815</th>\n",
       "      <td>1.0</td>\n",
       "      <td>Sorry, I clicked the wrong button and now can't go back.  I'm very happy with the review process..</td>\n",
       "    </tr>\n",
       "    <tr>\n",
       "      <th>161106</th>\n",
       "      <td>1.0</td>\n",
       "      <td>I clickd the wrong button and can't go back... Very happy with feedback. Thank you</td>\n",
       "    </tr>\n",
       "    <tr>\n",
       "      <th>161237</th>\n",
       "      <td>1.0</td>\n",
       "      <td>Sorry I am Happy with the work pressed wrong button</td>\n",
       "    </tr>\n",
       "    <tr>\n",
       "      <th>164717</th>\n",
       "      <td>1.0</td>\n",
       "      <td>Accidentally pressed 'Extremely Dissatisfied' button, I meant Extremely SATISFIED!</td>\n",
       "    </tr>\n",
       "    <tr>\n",
       "      <th>165931</th>\n",
       "      <td>1.0</td>\n",
       "      <td>I don't appear to have any feedback something must have went wrong</td>\n",
       "    </tr>\n",
       "    <tr>\n",
       "      <th>176518</th>\n",
       "      <td>1.0</td>\n",
       "      <td>sorry i pressed wrong button, i am impressed with your work</td>\n",
       "    </tr>\n",
       "    <tr>\n",
       "      <th>186538</th>\n",
       "      <td>1.0</td>\n",
       "      <td>Oh sorry I was really happy I think I just pressed the wrong buttong</td>\n",
       "    </tr>\n",
       "    <tr>\n",
       "      <th>197160</th>\n",
       "      <td>1.0</td>\n",
       "      <td>extremly satisfied i pressed the wrong thing</td>\n",
       "    </tr>\n",
       "    <tr>\n",
       "      <th>201492</th>\n",
       "      <td>1.0</td>\n",
       "      <td>I am so sorry  i accidentally clicked the wrong feedback option. I meant to put extremely satisfied. Thank you for the support.</td>\n",
       "    </tr>\n",
       "    <tr>\n",
       "      <th>201605</th>\n",
       "      <td>1.0</td>\n",
       "      <td>No you did not let me down, I clicked the wrong button.  I am very happy with the feedback.  Sorry..</td>\n",
       "    </tr>\n",
       "    <tr>\n",
       "      <th>209179</th>\n",
       "      <td>1.0</td>\n",
       "      <td>I didnt get any feed back about what i did wrong in my work</td>\n",
       "    </tr>\n",
       "    <tr>\n",
       "      <th>211453</th>\n",
       "      <td>1.0</td>\n",
       "      <td>Please accept my apology as I meant to leave a rating of excellent, but accidentally pushed the wrong button</td>\n",
       "    </tr>\n",
       "    <tr>\n",
       "      <th>212788</th>\n",
       "      <td>1.0</td>\n",
       "      <td>am satisfied with your work i press the button mistakely</td>\n",
       "    </tr>\n",
       "    <tr>\n",
       "      <th>225083</th>\n",
       "      <td>1.0</td>\n",
       "      <td>Mark please so I can improve</td>\n",
       "    </tr>\n",
       "    <tr>\n",
       "      <th>250175</th>\n",
       "      <td>1.0</td>\n",
       "      <td>sorry i pressed the wrong button</td>\n",
       "    </tr>\n",
       "    <tr>\n",
       "      <th>280689</th>\n",
       "      <td>1.0</td>\n",
       "      <td>Hit the wrong button meant extremely satisfied!</td>\n",
       "    </tr>\n",
       "    <tr>\n",
       "      <th>281051</th>\n",
       "      <td>1.0</td>\n",
       "      <td>I am satisfied accidentally hit unsatsfied</td>\n",
       "    </tr>\n",
       "    <tr>\n",
       "      <th>282337</th>\n",
       "      <td>1.0</td>\n",
       "      <td>Sorry I clicked on the wrong one. I am very satisfied.</td>\n",
       "    </tr>\n",
       "    <tr>\n",
       "      <th>293146</th>\n",
       "      <td>1.0</td>\n",
       "      <td>Sorry, I hit the wrong button. I meant \"extremely satisfied\".</td>\n",
       "    </tr>\n",
       "    <tr>\n",
       "      <th>307638</th>\n",
       "      <td>1.0</td>\n",
       "      <td>I was very happy with this feedback, I can't go back and change the button selected?</td>\n",
       "    </tr>\n",
       "    <tr>\n",
       "      <th>329075</th>\n",
       "      <td>1.0</td>\n",
       "      <td>Sorry, I hit the wrong button! I am happy with the feedback.</td>\n",
       "    </tr>\n",
       "    <tr>\n",
       "      <th>329539</th>\n",
       "      <td>1.0</td>\n",
       "      <td>so sorry I pressed the wrong box I was extremely satisfied</td>\n",
       "    </tr>\n",
       "    <tr>\n",
       "      <th>336380</th>\n",
       "      <td>1.0</td>\n",
       "      <td>Sorry pressed wrong smiley face</td>\n",
       "    </tr>\n",
       "    <tr>\n",
       "      <th>340307</th>\n",
       "      <td>1.0</td>\n",
       "      <td>I am sorry I accidentally clicked the wrong option :)  I am extremely satisfied !</td>\n",
       "    </tr>\n",
       "    <tr>\n",
       "      <th>364568</th>\n",
       "      <td>1.0</td>\n",
       "      <td>sorry wrong button you guys are great very happy</td>\n",
       "    </tr>\n",
       "    <tr>\n",
       "      <th>379939</th>\n",
       "      <td>1.0</td>\n",
       "      <td>This was accidentally pressed.</td>\n",
       "    </tr>\n",
       "    <tr>\n",
       "      <th>380529</th>\n",
       "      <td>1.0</td>\n",
       "      <td>I was happy with the service I just hit the wrong button but it wont let me go back</td>\n",
       "    </tr>\n",
       "    <tr>\n",
       "      <th>424041</th>\n",
       "      <td>1.0</td>\n",
       "      <td>You didn;t. I pressed the wrong button but can;t go back to correct it</td>\n",
       "    </tr>\n",
       "    <tr>\n",
       "      <th>450153</th>\n",
       "      <td>1.0</td>\n",
       "      <td>sorry I hit the wrong one by accident, I am very satisfied with my feedback</td>\n",
       "    </tr>\n",
       "    <tr>\n",
       "      <th>478733</th>\n",
       "      <td>1.0</td>\n",
       "      <td>pressed wrong button, pleased feedback</td>\n",
       "    </tr>\n",
       "    <tr>\n",
       "      <th>487754</th>\n",
       "      <td>1.0</td>\n",
       "      <td>Sorry I put the wrong score and I can't go back and change it. It is very helping for an international student</td>\n",
       "    </tr>\n",
       "    <tr>\n",
       "      <th>498114</th>\n",
       "      <td>1.0</td>\n",
       "      <td>I am very satisfied, sorry I enter the wrong button...</td>\n",
       "    </tr>\n",
       "  </tbody>\n",
       "</table>\n",
       "</div>"
      ],
      "text/plain": [
       "       student_rating  \\\n",
       "33676             1.0   \n",
       "115493            1.0   \n",
       "139815            1.0   \n",
       "161106            1.0   \n",
       "161237            1.0   \n",
       "164717            1.0   \n",
       "165931            1.0   \n",
       "176518            1.0   \n",
       "186538            1.0   \n",
       "197160            1.0   \n",
       "201492            1.0   \n",
       "201605            1.0   \n",
       "209179            1.0   \n",
       "211453            1.0   \n",
       "212788            1.0   \n",
       "225083            1.0   \n",
       "250175            1.0   \n",
       "280689            1.0   \n",
       "281051            1.0   \n",
       "282337            1.0   \n",
       "293146            1.0   \n",
       "307638            1.0   \n",
       "329075            1.0   \n",
       "329539            1.0   \n",
       "336380            1.0   \n",
       "340307            1.0   \n",
       "364568            1.0   \n",
       "379939            1.0   \n",
       "380529            1.0   \n",
       "424041            1.0   \n",
       "450153            1.0   \n",
       "478733            1.0   \n",
       "487754            1.0   \n",
       "498114            1.0   \n",
       "\n",
       "                                                                                                                        student_comment  \n",
       "33676                                                          it was really nice. thankyou. by mistake i clicked not satisfied button   \n",
       "115493                                                         Sorry, I pressed wrong button. Im extremely happy. Thank you very much.   \n",
       "139815                               Sorry, I clicked the wrong button and now can't go back.  I'm very happy with the review process..  \n",
       "161106                                               I clickd the wrong button and can't go back... Very happy with feedback. Thank you  \n",
       "161237                                                                              Sorry I am Happy with the work pressed wrong button  \n",
       "164717                                               Accidentally pressed 'Extremely Dissatisfied' button, I meant Extremely SATISFIED!  \n",
       "165931                                                               I don't appear to have any feedback something must have went wrong  \n",
       "176518                                                                      sorry i pressed wrong button, i am impressed with your work  \n",
       "186538                                                             Oh sorry I was really happy I think I just pressed the wrong buttong  \n",
       "197160                                                                                    extremly satisfied i pressed the wrong thing   \n",
       "201492  I am so sorry  i accidentally clicked the wrong feedback option. I meant to put extremely satisfied. Thank you for the support.  \n",
       "201605                             No you did not let me down, I clicked the wrong button.  I am very happy with the feedback.  Sorry..  \n",
       "209179                                                                      I didnt get any feed back about what i did wrong in my work  \n",
       "211453                     Please accept my apology as I meant to leave a rating of excellent, but accidentally pushed the wrong button  \n",
       "212788                                                                         am satisfied with your work i press the button mistakely  \n",
       "225083                                                                                                     Mark please so I can improve  \n",
       "250175                                                                                                 sorry i pressed the wrong button  \n",
       "280689                                                                                  Hit the wrong button meant extremely satisfied!  \n",
       "281051                                                                                      I am satisfied accidentally hit unsatsfied   \n",
       "282337                                                                          Sorry I clicked on the wrong one. I am very satisfied.   \n",
       "293146                                                                   Sorry, I hit the wrong button. I meant \"extremely satisfied\".   \n",
       "307638                                             I was very happy with this feedback, I can't go back and change the button selected?  \n",
       "329075                                                                     Sorry, I hit the wrong button! I am happy with the feedback.  \n",
       "329539                                                                       so sorry I pressed the wrong box I was extremely satisfied  \n",
       "336380                                                                                                  Sorry pressed wrong smiley face  \n",
       "340307                                                I am sorry I accidentally clicked the wrong option :)  I am extremely satisfied !  \n",
       "364568                                                                                 sorry wrong button you guys are great very happy  \n",
       "379939                                                                                                   This was accidentally pressed.  \n",
       "380529                                              I was happy with the service I just hit the wrong button but it wont let me go back  \n",
       "424041                                                           You didn;t. I pressed the wrong button but can;t go back to correct it  \n",
       "450153                                                      sorry I hit the wrong one by accident, I am very satisfied with my feedback  \n",
       "478733                                                                                           pressed wrong button, pleased feedback  \n",
       "487754                   Sorry I put the wrong score and I can't go back and change it. It is very helping for an international student  \n",
       "498114                                                                           I am very satisfied, sorry I enter the wrong button...  "
      ]
     },
     "execution_count": 75,
     "metadata": {},
     "output_type": "execute_result"
    }
   ],
   "source": [
    "query_1 = 'intent_luis == \"PRESSED_WRONG_BUTTON\" and student_rating == 1'\n",
    "query_2 = 'intent_luis == \"PRESSED_WRONG_BUTTON\" and student_rating == 2'\n",
    "index_pressed_wrong_button_1 = df.query(query_1).index\n",
    "index_pressed_wrong_button_2 = df.query(query_2).index\n",
    "df.loc[index_pressed_wrong_button_1, ['student_rating', 'student_comment']]"
   ]
  },
  {
   "cell_type": "code",
   "execution_count": 79,
   "metadata": {},
   "outputs": [
    {
     "name": "stdout",
     "output_type": "stream",
     "text": [
      "34\n",
      "4\n"
     ]
    }
   ],
   "source": [
    "print(len(index_pressed_wrong_button_1))\n",
    "print(len(index_pressed_wrong_button_2))"
   ]
  },
  {
   "cell_type": "markdown",
   "metadata": {},
   "source": [
    "There are 34 cases in which students pressed the wrong button and rated 1, and 4 cases in which students pressed the wrong button and rated 2. Note that these are known cases. There are others who may have pressed the wrong button but did not leave a comment."
   ]
  },
  {
   "cell_type": "code",
   "execution_count": 59,
   "metadata": {},
   "outputs": [],
   "source": [
    "df['student_rating_fixed'] = df.student_rating"
   ]
  },
  {
   "cell_type": "markdown",
   "metadata": {},
   "source": [
    "Change ratings of 2 to 4 and 1 to 5."
   ]
  },
  {
   "cell_type": "code",
   "execution_count": 76,
   "metadata": {},
   "outputs": [],
   "source": [
    "df.loc[index_pressed_wrong_button_1, 'student_rating_fixed'] = 5\n",
    "df.loc[index_pressed_wrong_button_2, 'student_rating_fixed'] = 4"
   ]
  },
  {
   "cell_type": "code",
   "execution_count": null,
   "metadata": {},
   "outputs": [],
   "source": [
    "df.student_rating.value_counts()"
   ]
  },
  {
   "cell_type": "code",
   "execution_count": null,
   "metadata": {},
   "outputs": [],
   "source": [
    "df.student_rating_fixed.value_counts()"
   ]
  },
  {
   "cell_type": "code",
   "execution_count": 81,
   "metadata": {},
   "outputs": [
    {
     "name": "stdout",
     "output_type": "stream",
     "text": [
      "Pickling to D:\\OneDrive - UTS\\36102 iLab 1 - Spring 2019\\CODE\\OUTPUT\\COLUMNS\\student_rating_fixed.\n"
     ]
    }
   ],
   "source": [
    "utils.save_object(\n",
    "    df.student_rating_fixed,\n",
    "    'student_rating_fixed',\n",
    "    column_dir\n",
    ")"
   ]
  },
  {
   "cell_type": "code",
   "execution_count": 83,
   "metadata": {},
   "outputs": [
    {
     "name": "stdout",
     "output_type": "stream",
     "text": [
      "Pickling to D:\\OneDrive - UTS\\36102 iLab 1 - Spring 2019\\CODE\\OUTPUT\\COLUMNS\\intent_luis.\n"
     ]
    }
   ],
   "source": [
    "utils.save_object(\n",
    "    df.intent_luis,\n",
    "    'intent_luis',\n",
    "    column_dir\n",
    ")"
   ]
  },
  {
   "cell_type": "markdown",
   "metadata": {},
   "source": [
    "# Saving Outputs"
   ]
  },
  {
   "cell_type": "markdown",
   "metadata": {},
   "source": [
    "## `sentiment_aggregated`"
   ]
  },
  {
   "cell_type": "code",
   "execution_count": 49,
   "metadata": {},
   "outputs": [],
   "source": [
    "with open(Path.cwd().joinpath('OUTPUT').joinpath('sentiment_aggregated'), 'ab') as outfile:\n",
    "    pickle.dump(data_df_comments.sentiment_aggregated, outfile)"
   ]
  },
  {
   "cell_type": "markdown",
   "metadata": {},
   "source": [
    "## `student_rating_fixed`"
   ]
  },
  {
   "cell_type": "code",
   "execution_count": 50,
   "metadata": {},
   "outputs": [],
   "source": [
    "with open(Path.cwd().joinpath('OUTPUT').joinpath('student_rating_fixed'), 'ab') as outfile:\n",
    "    pickle.dump(data_df_comments.student_rating_fixed, outfile)"
   ]
  }
 ],
 "metadata": {
  "kernelspec": {
   "display_name": "Python 3",
   "language": "python",
   "name": "python3"
  },
  "language_info": {
   "codemirror_mode": {
    "name": "ipython",
    "version": 3
   },
   "file_extension": ".py",
   "mimetype": "text/x-python",
   "name": "python",
   "nbconvert_exporter": "python",
   "pygments_lexer": "ipython3",
   "version": "3.7.3"
  }
 },
 "nbformat": 4,
 "nbformat_minor": 4
}
